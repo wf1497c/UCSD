{
 "cells": [
  {
   "cell_type": "code",
   "execution_count": 1,
   "metadata": {},
   "outputs": [],
   "source": [
    "import numpy as np\n",
    "import pandas as pd"
   ]
  },
  {
   "cell_type": "code",
   "execution_count": 2,
   "metadata": {},
   "outputs": [],
   "source": [
    "movie_file = 'hw8_movies.txt'\n",
    "rating_file = 'hw8_ratings.txt'\n",
    "ids_file = 'hw8_ids.txt'"
   ]
  },
  {
   "cell_type": "code",
   "execution_count": 3,
   "metadata": {},
   "outputs": [],
   "source": [
    "with open(movie_file) as f:\n",
    "    movie = f.read().splitlines()\n",
    "\n",
    "with open(rating_file) as f:\n",
    "    rating = f.read().splitlines()\n",
    "    rating = [s.replace(\" \",\"\") for s in rating]\n",
    "\n",
    "with open(ids_file) as f:\n",
    "    id = f.read().splitlines()"
   ]
  },
  {
   "cell_type": "markdown",
   "metadata": {},
   "source": [
    "(a) Sanity Check"
   ]
  },
  {
   "cell_type": "code",
   "execution_count": 4,
   "metadata": {},
   "outputs": [
    {
     "data": {
      "text/plain": [
       "array([52, 44, 74,  4, 27, 68, 57, 18, 60, 34, 41, 66, 53, 12, 36, 35, 75,\n",
       "       46, 71, 73,  8, 42, 15, 72, 16, 24, 43, 30, 14, 49, 38, 45, 54, 17,\n",
       "       56, 63, 59, 61, 29, 58, 32, 10, 13, 51, 55, 48,  9,  7, 22, 33,  6,\n",
       "       19, 67, 25, 26, 64,  2, 70, 20, 69, 23, 31, 62, 50, 28, 65, 37,  5,\n",
       "        1, 11, 40, 39, 47, 21,  3,  0])"
      ]
     },
     "execution_count": 4,
     "metadata": {},
     "output_type": "execute_result"
    }
   ],
   "source": [
    "mean_popularity = np.zeros(76, dtype = float)\n",
    "rate_num = np.zeros(76, dtype = float)\n",
    "ratings = np.zeros([len(rating), len(movie)])\n",
    "\n",
    "for count, n in enumerate(rating):\n",
    "    for m in range(len(n)):\n",
    "        if n[m] == '?':\n",
    "            ratings[count][m] = -1\n",
    "            continue\n",
    "        elif n[m] == '1':\n",
    "            mean_popularity[m] += 1\n",
    "            ratings[count][m] = 1\n",
    "        else:\n",
    "            ratings[count][m] = 0\n",
    "        rate_num[m] += 1\n",
    "            \n",
    "mean_popularity /= rate_num\n",
    "mean_popularity.argsort()"
   ]
  },
  {
   "cell_type": "code",
   "execution_count": 5,
   "metadata": {},
   "outputs": [
    {
     "name": "stdout",
     "output_type": "stream",
     "text": [
      "I_Feel_Pretty\n",
      "Fifty_Shades_of_Grey\n",
      "Hustlers\n",
      "The_Last_Airbender\n",
      "Magic_Mike\n",
      "Fast_&_Furious:_Hobbs_&_Shaw\n",
      "The_Shape_of_Water\n",
      "Prometheus\n",
      "Phantom_Thread\n",
      "World_War_Z\n",
      "Star_Wars:_The_Force_Awakens\n",
      "Rocketman\n",
      "Chappaquidick\n",
      "Bridemaids\n",
      "Man_of_Steel\n",
      "American_Hustle\n",
      "Terminator:_Dark_Fate\n",
      "Room\n",
      "Good_Boys\n",
      "Pokemon_Detective_Pikachu\n",
      "Fast_Five\n",
      "Mad_Max:_Fury_Road\n",
      "Drive\n",
      "Us\n",
      "The_Help\n",
      "Pitch_Perfect\n",
      "Jurassic_World\n",
      "Frozen\n",
      "X-Men:_First_Class\n",
      "The_Revenant\n",
      "Ex_Machina\n",
      "Avengers:_Age_of_Ultron\n",
      "La_La_Land\n",
      "Midnight_in_Paris\n",
      "Manchester_by_the_Sea\n",
      "Once_Upon_a_Time_in_Hollywood\n",
      "Three_Billboards_Outside_Ebbing\n",
      "Darkest_Hour\n",
      "The_Great_Gatsby\n",
      "Dunkirk\n",
      "Her\n",
      "Captain_America:_The_First_Avenger\n",
      "The_Girls_with_the_Dragon_Tattoo\n",
      "Ready_Player_One\n",
      "Hidden_Figures\n",
      "The_Hateful_Eight\n",
      "Thor\n",
      "Toy_Story_3\n",
      "The_Hunger_Games\n",
      "12_Years_a_Slave\n",
      "Iron_Man_2\n",
      "The_Perks_of_Being_a_Wallflower\n",
      "Joker\n",
      "Les_Miserables\n",
      "21_Jump_Street\n",
      "Spiderman:_Far_From_Home\n",
      "Black_Swan\n",
      "Parasite\n",
      "The_Avengers\n",
      "The_Farewell\n",
      "Django_Unchained\n",
      "Now_You_See_Me\n",
      "Avengers:_Endgame\n",
      "Avengers:_Infinity_War\n",
      "Wolf_of_Wall_Street\n",
      "The_Lion_King\n",
      "Gone_Girl\n",
      "Harry_Potter_and_the_Deathly_Hallows:_Part_1\n",
      "The_Social_Network\n",
      "Harry_Potter_and_the_Deathly_Hallows:_Part_2\n",
      "The_Theory_of_Everything\n",
      "Interstellar\n",
      "The_Martian\n",
      "The_Dark_Knight_Rises\n",
      "Shutter_Island\n",
      "Inception\n"
     ]
    }
   ],
   "source": [
    "for i in range(len(movie)):\n",
    "    print(movie[mean_popularity.argsort()[i]])"
   ]
  },
  {
   "cell_type": "code",
   "execution_count": 6,
   "metadata": {},
   "outputs": [],
   "source": [
    "k = 4\n",
    "T = len(rating)"
   ]
  },
  {
   "cell_type": "code",
   "execution_count": 7,
   "metadata": {},
   "outputs": [],
   "source": [
    "def estep_numerator(i,t,pr_given_z,pz):\n",
    "    j_recommend = np.where(ratings[t,:] == 1)\n",
    "    j_no_recommend = np.where(ratings[t,:] == 0)\n",
    "    return pz[i]*np.prod(pr_given_z[j_recommend,i])*np.prod(1-pr_given_z[j_no_recommend,i])\n",
    "\n",
    "def estep_denominator(t,pr_given_z,pz):\n",
    "    denom = 0\n",
    "    j_recommend = np.where(ratings[t,:] == 1)\n",
    "    j_no_recommend = np.where(ratings[t,:] == 0)\n",
    "    for i in range(k):\n",
    "        denom += estep_numerator(i,t,pr_given_z,pz)\n",
    "    return denom\n",
    "\n",
    "def mstep_pr_givenZ(i, j, pz_given_r, pr_given_z):\n",
    "    # pz_given_r is rho\n",
    "    # pr_given_z is probR\n",
    "\n",
    "    # j belongs to omega t\n",
    "    t_seen_index = np.asarray(ratings[:,j] == 1).nonzero()\n",
    "    sum_seen = np.sum(pz_given_r[i, t_seen_index])\n",
    "    # j not belongs to omega t\n",
    "    t_unseen_index = np.asarray(ratings[:,j] == -1).nonzero()\n",
    "    sum_unseen = np.sum(pz_given_r[i, t_unseen_index]) * pr_given_z[j, i]\n",
    "    return (sum_seen + sum_unseen) / np.sum(rho[i][:])\n",
    "\n",
    "def logLL(pr_given_z,pz):\n",
    "    L = 0\n",
    "    for t in range(T):\n",
    "        likelihood = 0\n",
    "        for i in range(k):\n",
    "            j_recommend = np.where(ratings[t,:] == 1)\n",
    "            j_no_recommend = np.where(ratings[t,:] == 0)\n",
    "            likelihood += pz[i] * np.prod(pr_given_z[j_recommend, i]) * np.prod(1-pr_given_z[j_no_recommend,i])\n",
    "        L += np.log(likelihood)\n",
    "\n",
    "    return L / T"
   ]
  },
  {
   "cell_type": "code",
   "execution_count": null,
   "metadata": {},
   "outputs": [
    {
     "name": "stdout",
     "output_type": "stream",
     "text": [
      "iteration: 0, log-likelihood L: -27.0358\n",
      "iteration: 1, log-likelihood L: -17.5604\n",
      "iteration: 2, log-likelihood L: -16.0024\n",
      "iteration: 4, log-likelihood L: -15.0606\n",
      "iteration: 8, log-likelihood L: -14.5016\n",
      "iteration: 16, log-likelihood L: -14.2638\n",
      "iteration: 32, log-likelihood L: -14.1802\n",
      "iteration: 64, log-likelihood L: -14.1701\n",
      "iteration: 128, log-likelihood L: -14.1640\n"
     ]
    }
   ],
   "source": [
    "probR = np.loadtxt('hw8_probR_init.txt')\n",
    "probZ = np.loadtxt('hw8_probZ_init.txt')\n",
    "rho = np.empty([k,T], dtype='float64')\n",
    "pz_tmp = np.empty(k)\n",
    "pr_given_Z_temp = np.empty([len(movie), k])\n",
    "L = [] \n",
    "\n",
    "for iteration in range(256+1):\n",
    "    L.append(logLL(probR, probZ))\n",
    "    if iteration in {0,1,2,4,8,16,32,64,128,256}:\n",
    "            print(\"iteration: %d, log-likelihood L: %.4f\" % (iteration, L[iteration]))\n",
    "    # E-step\n",
    "    for t in range(T):\n",
    "        for i in range(k):\n",
    "            rho[i][t] = estep_numerator(i,t,probR,probZ) / estep_denominator(t,probR,probZ)\n",
    "\n",
    "    # M-step\n",
    "    for i in range(k):\n",
    "        pz_tmp[i] = np.sum(rho[i][:]) / T\n",
    "        for j in range(len(movie)):\n",
    "            pr_given_Z_temp[j][i] = mstep_pr_givenZ(i,j,rho,probR)\n",
    "\n",
    "    probZ = pz_tmp\n",
    "    probR = pr_given_Z_temp"
   ]
  },
  {
   "cell_type": "code",
   "execution_count": null,
   "metadata": {},
   "outputs": [],
   "source": [
    "PID = \"A59010711\"\n",
    "idx = id.index(PID)"
   ]
  },
  {
   "cell_type": "code",
   "execution_count": null,
   "metadata": {},
   "outputs": [],
   "source": [
    "my_data = ratings[idx,:]\n",
    "my_unseen = np.asarray(my_data == -1).nonzero()[0]\n",
    "expected_ratings = []\n",
    "\n",
    "for l in my_unseen:\n",
    "    exp_rating = 0\n",
    "    for i in range(k):\n",
    "        estep_term = estep_numerator(i, idx, probR, probZ)/estep_denominator(idx, probR, probZ)\n",
    "        mstep_term = mstep_pr_givenZ(i,l, rho, probR)\n",
    "        exp_rating += estep_term * mstep_term\n",
    "    expected_ratings.append((exp_rating, movie[l]))\n",
    "\n",
    "expected_ratings.sort(reverse=True)   \n",
    "pd.DataFrame(expected_ratings, columns=['Expected rating', 'Movie'])"
   ]
  },
  {
   "cell_type": "code",
   "execution_count": null,
   "metadata": {},
   "outputs": [],
   "source": [
    "PID = 'A59010711'\n",
    "idx = id.index(PID)\n",
    "my_data = ratings[idx,:] #my ratings\n",
    "unseen = np.asarray(my_data == -1).nonzero()[0] #movies I haven't seen\n",
    "expected_ratings = []\n",
    "\n",
    "for l in unseen:\n",
    "    exp_rating = 0\n",
    "    for i in range(k):\n",
    "        estep_term = estep_numerator(i,idx,probR,probZ) / estep_denominator(idx,probR,probZ)\n",
    "        mstep_term = mstep_pr_givenZ(i,l,rho, probR) / np.sum(rho[i,:])\n",
    "        exp_rating += estep_term * mstep_term\n",
    "    expected_ratings.append((exp_rating, movie[l]))\n",
    "\n",
    "expected_ratings.sort(reverse=True)   \n",
    "pd.DataFrame(expected_ratings, columns=['Expected rating', 'Movie'])\n",
    "#     print('Movie: %s \\t Expected rating: %f' % (movieTitles[l], exp_rating))\n",
    "\n",
    "import pandas as pd\n",
    "pd.DataFrame(list(zip([movie[l] for l in unseen], expected_ratings)), columns=['Movie','Expected rating'])\n",
    "\n"
   ]
  }
 ],
 "metadata": {
  "interpreter": {
   "hash": "cfe5dda9b6afaed5614e16039d56331fd49eb2ec58b3d40c6c14d4edbbd61cd6"
  },
  "kernelspec": {
   "display_name": "Python 3 (ipykernel)",
   "language": "python",
   "name": "python3"
  },
  "language_info": {
   "codemirror_mode": {
    "name": "ipython",
    "version": 3
   },
   "file_extension": ".py",
   "mimetype": "text/x-python",
   "name": "python",
   "nbconvert_exporter": "python",
   "pygments_lexer": "ipython3",
   "version": "3.8.10"
  }
 },
 "nbformat": 4,
 "nbformat_minor": 2
}
