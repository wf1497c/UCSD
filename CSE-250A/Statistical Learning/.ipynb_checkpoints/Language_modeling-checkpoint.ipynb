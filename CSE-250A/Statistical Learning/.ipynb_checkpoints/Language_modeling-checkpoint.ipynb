{
 "cells": [
  {
   "cell_type": "code",
   "execution_count": 1,
   "metadata": {},
   "outputs": [],
   "source": [
    "import pandas as pd\n",
    "import numpy as np\n",
    "\n",
    "vocab_file = 'hw4_vocab.txt'\n",
    "unigram_file = 'hw4_unigram.txt'\n",
    "bigram_file = 'hw4_bigram.txt'\n",
    "with open(vocab_file) as f:\n",
    "    vocab = pd.DataFrame({'word':f.read().splitlines()})\n",
    "with open(unigram_file) as f:\n",
    "    count_vocab = pd.DataFrame({'count':f.read().splitlines()})\n",
    "    count_vocab['count'] = [int(c) for c in count_vocab['count']]\n",
    "bigram = pd.read_csv(bigram_file, sep = '\t', header = None, names = [\"index_w1\", \"index_w2\", \"count_w1_w2\"])"
   ]
  },
  {
   "cell_type": "code",
   "execution_count": 2,
   "metadata": {},
   "outputs": [],
   "source": [
    "P_w_unigram = [c / sum(count_vocab['count']) for c in count_vocab['count']]\n",
    "d = {'word':vocab['word'], 'P(w)': P_w_unigram}\n",
    "vocab_unigram = pd.DataFrame(data = d)"
   ]
  },
  {
   "cell_type": "code",
   "execution_count": 3,
   "metadata": {},
   "outputs": [
    {
     "name": "stdout",
     "output_type": "stream",
     "text": [
      "MILLION\n",
      "0.002073\n",
      "MORE\n",
      "0.001709\n",
      "MR.\n",
      "0.001442\n",
      "MOST\n",
      "0.000788\n",
      "MARKET\n",
      "0.000780\n",
      "MAY\n",
      "0.000730\n",
      "M.\n",
      "0.000703\n",
      "MANY\n",
      "0.000697\n",
      "MADE\n",
      "0.000560\n",
      "MUCH\n",
      "0.000515\n"
     ]
    }
   ],
   "source": [
    "# 4.3(a)\n",
    "count = 0\n",
    "for i,w in enumerate(vocab_unigram[\"word\"]):\n",
    "    if(w[0] == 'M'):\n",
    "        count += 1\n",
    "        print(w + '\\n%f' % vocab_unigram[\"P(w)\"][i])\n",
    "    if(count == 10):\n",
    "        break"
   ]
  },
  {
   "cell_type": "code",
   "execution_count": 4,
   "metadata": {},
   "outputs": [
    {
     "data": {
      "text/html": [
       "<div>\n",
       "<style scoped>\n",
       "    .dataframe tbody tr th:only-of-type {\n",
       "        vertical-align: middle;\n",
       "    }\n",
       "\n",
       "    .dataframe tbody tr th {\n",
       "        vertical-align: top;\n",
       "    }\n",
       "\n",
       "    .dataframe thead th {\n",
       "        text-align: right;\n",
       "    }\n",
       "</style>\n",
       "<table border=\"1\" class=\"dataframe\">\n",
       "  <thead>\n",
       "    <tr style=\"text-align: right;\">\n",
       "      <th></th>\n",
       "      <th>w1</th>\n",
       "      <th>w2</th>\n",
       "      <th>P(w2|w1)</th>\n",
       "    </tr>\n",
       "  </thead>\n",
       "  <tbody>\n",
       "    <tr>\n",
       "      <th>0</th>\n",
       "      <td>THE</td>\n",
       "      <td>&lt;UNK&gt;</td>\n",
       "      <td>0.615020</td>\n",
       "    </tr>\n",
       "    <tr>\n",
       "      <th>65</th>\n",
       "      <td>THE</td>\n",
       "      <td>U.</td>\n",
       "      <td>0.013372</td>\n",
       "    </tr>\n",
       "    <tr>\n",
       "      <th>71</th>\n",
       "      <td>THE</td>\n",
       "      <td>FIRST</td>\n",
       "      <td>0.011720</td>\n",
       "    </tr>\n",
       "    <tr>\n",
       "      <th>67</th>\n",
       "      <td>THE</td>\n",
       "      <td>COMPANY</td>\n",
       "      <td>0.011659</td>\n",
       "    </tr>\n",
       "    <tr>\n",
       "      <th>57</th>\n",
       "      <td>THE</td>\n",
       "      <td>NEW</td>\n",
       "      <td>0.009451</td>\n",
       "    </tr>\n",
       "    <tr>\n",
       "      <th>172</th>\n",
       "      <td>THE</td>\n",
       "      <td>UNITED</td>\n",
       "      <td>0.008672</td>\n",
       "    </tr>\n",
       "    <tr>\n",
       "      <th>93</th>\n",
       "      <td>THE</td>\n",
       "      <td>GOVERNMENT</td>\n",
       "      <td>0.006803</td>\n",
       "    </tr>\n",
       "    <tr>\n",
       "      <th>36</th>\n",
       "      <td>THE</td>\n",
       "      <td>NINETEEN</td>\n",
       "      <td>0.006651</td>\n",
       "    </tr>\n",
       "    <tr>\n",
       "      <th>289</th>\n",
       "      <td>THE</td>\n",
       "      <td>SAME</td>\n",
       "      <td>0.006287</td>\n",
       "    </tr>\n",
       "    <tr>\n",
       "      <th>21</th>\n",
       "      <td>THE</td>\n",
       "      <td>TWO</td>\n",
       "      <td>0.006161</td>\n",
       "    </tr>\n",
       "  </tbody>\n",
       "</table>\n",
       "</div>"
      ],
      "text/plain": [
       "      w1          w2  P(w2|w1)\n",
       "0    THE       <UNK>  0.615020\n",
       "65   THE          U.  0.013372\n",
       "71   THE       FIRST  0.011720\n",
       "67   THE     COMPANY  0.011659\n",
       "57   THE         NEW  0.009451\n",
       "172  THE      UNITED  0.008672\n",
       "93   THE  GOVERNMENT  0.006803\n",
       "36   THE    NINETEEN  0.006651\n",
       "289  THE        SAME  0.006287\n",
       "21   THE         TWO  0.006161"
      ]
     },
     "execution_count": 4,
     "metadata": {},
     "output_type": "execute_result"
    }
   ],
   "source": [
    "# 4.3(b)\n",
    "def bigram_distribution(w1):\n",
    "    target_w1_i = vocab['word'].tolist().index(w1)\n",
    "    total_w1 = 0\n",
    "    w2 = []\n",
    "    count = 0\n",
    "    for i in range(len(bigram)):\n",
    "        if (bigram['index_w1'][i] - 1 == target_w1_i):\n",
    "            count += 1\n",
    "            total_w1 += bigram['count_w1_w2'][i]\n",
    "            index_w2 = bigram['index_w2'][i]\n",
    "            w2.append(vocab['word'][index_w2-1])\n",
    "\n",
    "    # Now, we have denominator of P(w2|w1) = total_w1\n",
    "    # Calculate P(w2|w1) for each w2\n",
    "    prob_w2_given_w1 = []\n",
    "    for i in range(len(bigram)):\n",
    "        if (bigram['index_w1'][i] - 1 == target_w1_i):\n",
    "            prob_w2_given_w1.append(bigram['count_w1_w2'][i] / total_w1) \n",
    "\n",
    "    w1_list = [w1 for i in range(count)]\n",
    "\n",
    "    return pd.DataFrame({'w1':w1_list, 'w2':w2, 'P(w2|w1)':prob_w2_given_w1})\n",
    "\n",
    "w1_is_THE = bigram_distribution(\"THE\")\n",
    "w1_is_THE = w1_is_THE.sort_values(by = ['P(w2|w1)'], ascending=False)\n",
    "w1_is_THE.head(10)\n"
   ]
  },
  {
   "cell_type": "code",
   "execution_count": 5,
   "metadata": {},
   "outputs": [],
   "source": [
    "# 4.3(c)\n",
    "def words_in_sentence(s):\n",
    "    temp = ''\n",
    "    words = []\n",
    "    for c in s:\n",
    "        if(c == ' ' or c == '.'):\n",
    "            words.append(temp.upper())\n",
    "            temp = ''\n",
    "        else:\n",
    "            temp += c\n",
    "\n",
    "    return words\n",
    "\n",
    "sentence_1 = \"The stock market fell by one hundred points last week.\"\n",
    "words_1 = words_in_sentence(sentence_1)"
   ]
  },
  {
   "cell_type": "code",
   "execution_count": 6,
   "metadata": {},
   "outputs": [
    {
     "name": "stdout",
     "output_type": "stream",
     "text": [
      "Log likelihood by unigram: -64.50944034364878 \n",
      "\n"
     ]
    }
   ],
   "source": [
    "def unigram_log_LL(words_list):\n",
    "    uni_LL = 1\n",
    "    for w in words_list:\n",
    "        if(w in vocab_unigram['word'].tolist()):\n",
    "            word_index = vocab_unigram['word'].tolist().index(w)\n",
    "            uni_LL *= vocab_unigram['P(w)'][word_index]\n",
    "        else:\n",
    "            return np.log(0)\n",
    "\n",
    "    return np.log(uni_LL)\n",
    "\n",
    "print('Log likelihood by unigram:', unigram_log_LL(words_1), '\\n')"
   ]
  },
  {
   "cell_type": "code",
   "execution_count": 7,
   "metadata": {},
   "outputs": [
    {
     "name": "stdout",
     "output_type": "stream",
     "text": [
      "Log likelihood by bigram: -40.91813213378977\n"
     ]
    }
   ],
   "source": [
    "def bigram_log_LL(words_list):\n",
    "    bi_LL = 1\n",
    "    for i in range(len(words_list)):\n",
    "        if i == 0:\n",
    "            w1 = '<s>'\n",
    "            w2 = words_list[0]\n",
    "        else:\n",
    "            w1 = words_list[i-1]\n",
    "            w2 = words_list[i]\n",
    "        w1_bigram_dist = bigram_distribution(w1)\n",
    "        if(w2 in w1_bigram_dist['w2'].tolist()):\n",
    "            P_w2_given_w1_index = w1_bigram_dist['w2'].tolist().index(w2)\n",
    "            P_w2_given_w1 = w1_bigram_dist['P(w2|w1)'][P_w2_given_w1_index]\n",
    "        else:\n",
    "            P_w2_given_w1 = 0\n",
    "            print('The following pair is invalid:', w1, w2)\n",
    "\n",
    "        bi_LL *= P_w2_given_w1\n",
    "\n",
    "    return np.log(bi_LL)\n",
    "\n",
    "print('Log likelihood by bigram:',bigram_log_LL(words_1))"
   ]
  },
  {
   "cell_type": "code",
   "execution_count": 9,
   "metadata": {},
   "outputs": [
    {
     "name": "stdout",
     "output_type": "stream",
     "text": [
      "Log likelihood by unigram: -44.291934473132606\n",
      "The following pair is invalid: SIXTEEN OFFICIALS\n",
      "The following pair is invalid: SOLD FIRE\n",
      "Log likelihood by bigram: -inf\n"
     ]
    },
    {
     "name": "stderr",
     "output_type": "stream",
     "text": [
      "/tmp/ipykernel_27061/972566284.py:20: RuntimeWarning: divide by zero encountered in log\n",
      "  return np.log(bi_LL)\n"
     ]
    }
   ],
   "source": [
    "# 4.3(d)\n",
    "sentence_2 = 'The sixteen officials sold fire insurance.'\n",
    "words_2 = words_in_sentence(sentence_2)\n",
    "\n",
    "print('Log likelihood by unigram:', unigram_log_LL(words_2))\n",
    "print('Log likelihood by bigram:', bigram_log_LL(words_2))"
   ]
  },
  {
   "cell_type": "code",
   "execution_count": 10,
   "metadata": {},
   "outputs": [
    {
     "name": "stdout",
     "output_type": "stream",
     "text": [
      "The optimal lamda = 0.650000\n"
     ]
    }
   ],
   "source": [
    "# 4.3(e)\n",
    "def mixture(words_list, lamda):\n",
    "    mix_LL = 1\n",
    "    for i in range(len(words_list)):\n",
    "        if i == 0:\n",
    "            w1 = '<s>'\n",
    "            w2 = words_list[0]\n",
    "        else:\n",
    "            w1 = words_list[i-1]\n",
    "            w2 = words_list[i]\n",
    "\n",
    "        P_w2_i = vocab_unigram['word'].tolist().index(w2)\n",
    "        P_w2 = vocab_unigram['P(w)'][P_w2_i]\n",
    "\n",
    "        w1_bigram_dist = bigram_distribution(w1)\n",
    "        if(w2 in w1_bigram_dist['w2'].tolist()):\n",
    "            P_w2_given_w1_index = w1_bigram_dist['w2'].tolist().index(w2)\n",
    "            P_w2_given_w1 = w1_bigram_dist['P(w2|w1)'][P_w2_given_w1_index]\n",
    "        else:\n",
    "            P_w2_given_w1 = 0\n",
    "\n",
    "        mix_LL *= lamda * P_w2 + (1-lamda) * P_w2_given_w1\n",
    "\n",
    "    return np.log(mix_LL)\n",
    "    \n",
    "lamda_range = np.linspace(0.01,1,100)\n",
    "mix_LL = [mixture(words_2,l_r) for l_r in lamda_range]\n",
    "print('The optimal lamda = %f' % lamda_range[mix_LL.index(np.max(mix_LL))])"
   ]
  },
  {
   "cell_type": "code",
   "execution_count": 11,
   "metadata": {},
   "outputs": [
    {
     "data": {
      "text/plain": [
       "[<matplotlib.lines.Line2D at 0x7fd55a23fa60>]"
      ]
     },
     "execution_count": 11,
     "metadata": {},
     "output_type": "execute_result"
    },
    {
     "data": {
      "image/png": "[encoded data removed]",
      "text/plain": [
       "<Figure size 432x288 with 1 Axes>"
      ]
     },
     "metadata": {
      "needs_background": "light"
     },
     "output_type": "display_data"
    }
   ],
   "source": [
    "import matplotlib.pyplot as plt\n",
    "plt.plot(lamda_range, mix_LL, \"o-\")"
   ]
  }
 ],
 "metadata": {
  "interpreter": {
   "hash": "cfe5dda9b6afaed5614e16039d56331fd49eb2ec58b3d40c6c14d4edbbd61cd6"
  },
  "kernelspec": {
   "display_name": "Python 3 (ipykernel)",
   "language": "python",
   "name": "python3"
  },
  "language_info": {
   "codemirror_mode": {
    "name": "ipython",
    "version": 3
   },
   "file_extension": ".py",
   "mimetype": "text/x-python",
   "name": "python",
   "nbconvert_exporter": "python",
   "pygments_lexer": "ipython3",
   "version": "3.8.10"
  }
 },
 "nbformat": 4,
 "nbformat_minor": 2
}
