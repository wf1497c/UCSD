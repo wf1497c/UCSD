{
 "cells": [
  {
   "cell_type": "code",
   "execution_count": 1,
   "metadata": {},
   "outputs": [],
   "source": [
    "import numpy as np\n",
    "\n",
    "file_00 = 'nasdaq00.txt'\n",
    "file_01 = 'nasdaq01.txt'\n",
    "with open(file_00) as f:\n",
    "    data_00 = [float(d) for d in f.read().splitlines()]\n",
    "with open(file_01) as f:    \n",
    "    data_01 = [float(d) for d in f.read().splitlines()]"
   ]
  },
  {
   "cell_type": "code",
   "execution_count": 2,
   "metadata": {},
   "outputs": [],
   "source": [
    "def data_process(data):\n",
    "    # we dont use x0, x1, x2 for 4-gram\n",
    "    xt = []\n",
    "    xt_4_gram = []\n",
    "    for i in range(len(data)-3):\n",
    "        xt.append(data[i+3])\n",
    "        xt_4_gram.append(data[i:i+3]) # Order to take: xt-3, xt-2, xt-1\n",
    "\n",
    "    return xt, np.array(xt_4_gram).T\n",
    "\n",
    "xt, xt_4_gram = data_process(data_00)\n"
   ]
  },
  {
   "cell_type": "code",
   "execution_count": 3,
   "metadata": {},
   "outputs": [
    {
     "name": "stdout",
     "output_type": "stream",
     "text": [
      "[a3 a2 a1] =  [0.03189569 0.01560133 0.95067337]\n"
     ]
    }
   ],
   "source": [
    "# 4.4(a)\n",
    "A = xt_4_gram.dot(xt_4_gram.T)\n",
    "b = xt_4_gram.dot(xt)\n",
    "w = np.linalg.inv(A).dot(b)\n",
    "print('[a3 a2 a1] = ', w.T)"
   ]
  },
  {
   "cell_type": "code",
   "execution_count": 4,
   "metadata": {},
   "outputs": [
    {
     "name": "stdout",
     "output_type": "stream",
     "text": [
      "RMSE for 2001 data: 117.90844361778285\n",
      "RMSE for 2000 data: 54.48624021968643\n"
     ]
    }
   ],
   "source": [
    "# 4.4(b)\n",
    "def RMSE(y, x_t_4, w_t):\n",
    "    return np.sqrt(np.mean((y-x_t_4.T.dot(w_t))**2))\n",
    "\n",
    "xt_01, xt_4_gram_01 = data_process(data_01)\n",
    "\n",
    "A_01 = xt_4_gram_01.dot(xt_4_gram_01.T)\n",
    "b_01 = xt_4_gram_01.dot(xt_01)\n",
    "w_01 = np.linalg.inv(A_01).dot(b_01)\n",
    "\n",
    "print('RMSE for 2001 data:', RMSE(xt, xt_4_gram, w))\n",
    "print('RMSE for 2000 data:', RMSE(xt_01, xt_4_gram_01, w_01))"
   ]
  }
 ],
 "metadata": {
  "interpreter": {
   "hash": "cfe5dda9b6afaed5614e16039d56331fd49eb2ec58b3d40c6c14d4edbbd61cd6"
  },
  "kernelspec": {
   "display_name": "Python 3 (ipykernel)",
   "language": "python",
   "name": "python3"
  },
  "language_info": {
   "codemirror_mode": {
    "name": "ipython",
    "version": 3
   },
   "file_extension": ".py",
   "mimetype": "text/x-python",
   "name": "python",
   "nbconvert_exporter": "python",
   "pygments_lexer": "ipython3",
   "version": "3.8.10"
  }
 },
 "nbformat": 4,
 "nbformat_minor": 2
}
