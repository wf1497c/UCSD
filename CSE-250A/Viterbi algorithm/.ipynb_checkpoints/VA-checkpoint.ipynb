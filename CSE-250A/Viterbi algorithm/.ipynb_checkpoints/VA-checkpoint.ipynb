{
 "cells": [
  {
   "cell_type": "code",
   "execution_count": 1,
   "metadata": {},
   "outputs": [],
   "source": [
    "import numpy as np\n",
    "import matplotlib.pyplot as plt\n",
    "import string"
   ]
  },
  {
   "cell_type": "code",
   "execution_count": 2,
   "metadata": {},
   "outputs": [],
   "source": [
    "init_state = np.loadtxt(\"initialStateDistribution.txt\")\n",
    "obs = np.loadtxt(\"observations.txt\", dtype='int')\n",
    "trans = np.loadtxt(\"transitionMatrix.txt\")\n",
    "emis_mat = np.loadtxt(\"emissionMatrix.txt\")"
   ]
  },
  {
   "cell_type": "code",
   "execution_count": 3,
   "metadata": {},
   "outputs": [],
   "source": [
    "n = len(init_state)\n",
    "m = emis_mat.shape[1]\n",
    "T = len(obs)"
   ]
  },
  {
   "cell_type": "code",
   "execution_count": 4,
   "metadata": {},
   "outputs": [],
   "source": [
    "l = np.zeros([n,T]) \n",
    "phi = np.zeros([n,T]) "
   ]
  },
  {
   "cell_type": "code",
   "execution_count": 5,
   "metadata": {},
   "outputs": [],
   "source": [
    "# initial state\n",
    "l[:,0] = np.log(init_state) + np.log(emis_mat[:, obs[0]])\n",
    "phi[:,0] = init_state\n",
    "s = np.full(T, -1, dtype=int)"
   ]
  },
  {
   "cell_type": "code",
   "execution_count": 6,
   "metadata": {},
   "outputs": [],
   "source": [
    "alphaDict = dict(zip(range(1,28), string.ascii_lowercase + ' '))"
   ]
  },
  {
   "cell_type": "code",
   "execution_count": 7,
   "metadata": {},
   "outputs": [],
   "source": [
    "def update(row, col):\n",
    "    state_trans = l[:,col-1] + np.log(trans[:,row])\n",
    "    next_l = np.amax(state_trans) + np.log(emis_mat[row, obs[col]])\n",
    "    most_likely = int(np.argmax(state_trans))\n",
    "    \n",
    "    return most_likely, next_l\n",
    "    \n",
    "def backtrack(t_idx):\n",
    "    if t_idx == T-1:\n",
    "        return int(np.argmax(l[:,T-1]))\n",
    "    else:\n",
    "        return int(np.argmax(l[:,t_idx] + np.log(trans[:,s[t_idx+1]])))\n",
    "        #return phi[s[t_idx+1], t_idx+1]\n",
    "\n",
    "def Viterbi():\n",
    "    for t in range(T-1):\n",
    "        for j in range(n):\n",
    "            phi[j,t+1], l[j,t+1] = update(j,t+1)\n",
    "    # backtracking\n",
    "    for t in range(T-1,-1,-1):\n",
    "        s[t] = int(backtrack(t))\n",
    "\n",
    "def plot_HMM():\n",
    "    plt.plot(s)\n",
    "    plt.xlabel('time (t)')\n",
    "    plt.ylabel('Hidden states (s_t)')\n",
    "\n",
    "def decode():\n",
    "    message = []\n",
    "    for t in range(T-1):\n",
    "        if s[t] != s[t+1]:\n",
    "            message.append(alphaDict.get(s[t]+1))\n",
    "    message.append(alphaDict.get(s[T-1]+1))\n",
    "    return ''.join(message)"
   ]
  },
  {
   "cell_type": "code",
   "execution_count": 8,
   "metadata": {},
   "outputs": [],
   "source": [
    "Viterbi()"
   ]
  },
  {
   "cell_type": "code",
   "execution_count": 9,
   "metadata": {},
   "outputs": [
    {
     "data": {
      "image/png": "[encoded data removed]",
      "text/plain": [
       "<Figure size 432x288 with 1 Axes>"
      ]
     },
     "metadata": {
      "needs_background": "light"
     },
     "output_type": "display_data"
    }
   ],
   "source": [
    "plot_HMM()"
   ]
  },
  {
   "cell_type": "code",
   "execution_count": 10,
   "metadata": {},
   "outputs": [
    {
     "name": "stdout",
     "output_type": "stream",
     "text": [
      "a house divided against itself canot stand\n"
     ]
    }
   ],
   "source": [
    "hidden_message = decode()\n",
    "print(hidden_message)"
   ]
  }
 ],
 "metadata": {
  "interpreter": {
   "hash": "cfe5dda9b6afaed5614e16039d56331fd49eb2ec58b3d40c6c14d4edbbd61cd6"
  },
  "kernelspec": {
   "display_name": "Python 3 (ipykernel)",
   "language": "python",
   "name": "python3"
  },
  "language_info": {
   "codemirror_mode": {
    "name": "ipython",
    "version": 3
   },
   "file_extension": ".py",
   "mimetype": "text/x-python",
   "name": "python",
   "nbconvert_exporter": "python",
   "pygments_lexer": "ipython3",
   "version": "3.8.10"
  }
 },
 "nbformat": 4,
 "nbformat_minor": 2
}
