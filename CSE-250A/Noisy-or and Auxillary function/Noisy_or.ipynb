{
 "cells": [
  {
   "cell_type": "code",
   "execution_count": 1,
   "metadata": {},
   "outputs": [],
   "source": [
    "import numpy as np\n",
    "import matplotlib.pyplot as plt"
   ]
  },
  {
   "cell_type": "code",
   "execution_count": 2,
   "metadata": {},
   "outputs": [],
   "source": [
    "X_f = 'noisyOrX.txt'\n",
    "Y_f = 'noisyOrY.txt'\n",
    "X = np.loadtxt(X_f, dtype = int)\n",
    "Y = np.loadtxt(Y_f, dtype = int)"
   ]
  },
  {
   "cell_type": "code",
   "execution_count": 3,
   "metadata": {},
   "outputs": [],
   "source": [
    "def loss(p,X,Y):\n",
    "    temp = X.dot(np.log(1-p))\n",
    "    return -1 / X.shape[0] * np.sum(Y[:,np.newaxis] * np.log(1-np.exp(temp)) + (1-Y[:,np.newaxis]) * temp)\n",
    "\n",
    "def M_update(p,X,Y):\n",
    "    temp0 = X.dot(np.log(1-p))\n",
    "    temp1 = (X.T * p).T * Y[:,np.newaxis] / (1 - np.exp(temp0))\n",
    "    p_new = (np.sum(temp1,axis = 0) / np.sum(X,axis = 0))[:,np.newaxis]\n",
    "    return p_new\n",
    "\n",
    "def predict(p,X,Y):\n",
    "    temp = X.dot(np.log(1-p))\n",
    "    y_prob = 1 - np.exp(temp)\n",
    "    y_pred = np.where(y_prob >= 0.5, 1,0)\n",
    "    return np.sum(np.abs(y_pred - Y[:,np.newaxis]))\n",
    "\n",
    "pi = np.ones((23,1)) * 0.05\n",
    "initial_loss = loss(pi, X, Y)\n",
    "initial_error = predict(pi, X, Y)\n",
    "loss_list, error_list = [initial_loss], [initial_error]"
   ]
  },
  {
   "cell_type": "code",
   "execution_count": 4,
   "metadata": {},
   "outputs": [
    {
     "name": "stdout",
     "output_type": "stream",
     "text": [
      "iteration 0\tnumber of mistiakes 175\tloss -0.95809\n",
      "iteration 1\tnumber of mistiakes 56\tloss -0.49592\n",
      "iteration 2\tnumber of mistiakes 43\tloss -0.40822\n",
      "iteration 4\tnumber of mistiakes 42\tloss -0.36461\n",
      "iteration 8\tnumber of mistiakes 44\tloss -0.34750\n",
      "iteration 16\tnumber of mistiakes 40\tloss -0.33462\n",
      "iteration 32\tnumber of mistiakes 37\tloss -0.32258\n",
      "iteration 64\tnumber of mistiakes 37\tloss -0.31483\n",
      "iteration 128\tnumber of mistiakes 36\tloss -0.31116\n",
      "iteration 256\tnumber of mistiakes 36\tloss -0.31016\n"
     ]
    }
   ],
   "source": [
    "print(\"iteration 0\\tnumber of mistiakes %d\\tloss %.5f\"%(initial_error,-initial_loss))\n",
    "import math\n",
    "max_iteration = 256\n",
    "for i in range(1,max_iteration+1):\n",
    "    pi = M_update(pi,X,Y)\n",
    "    error = predict(pi,X,Y)\n",
    "    l = loss(pi,X,Y)\n",
    "    error_list.append(error)\n",
    "    loss_list.append(l)\n",
    "    if math.log(i, 2).is_integer():\n",
    "        print(\"iteration %d\\tnumber of mistiakes %d\\tloss %.5f\"%(i,error,-l))"
   ]
  },
  {
   "cell_type": "code",
   "execution_count": 5,
   "metadata": {},
   "outputs": [],
   "source": [
    "error_list = np.array(error_list)\n",
    "loss_list = np.array(loss_list)\n",
    "x = np.linspace(0, 256, 257)"
   ]
  },
  {
   "cell_type": "code",
   "execution_count": 6,
   "metadata": {},
   "outputs": [
    {
     "data": {
      "image/png": "[encoded data removed]",
      "text/plain": [
       "<Figure size 720x360 with 2 Axes>"
      ]
     },
     "metadata": {
      "needs_background": "light"
     },
     "output_type": "display_data"
    }
   ],
   "source": [
    "fig = plt.figure(figsize=(10,5))\n",
    "fig.add_subplot(121)\n",
    "plt.plot(x,loss_list,'b')\n",
    "plt.xlabel('number of iterations')\n",
    "plt.ylabel('loss')\n",
    "\n",
    "fig.add_subplot(122)\n",
    "plt.plot(x,error_list,'g')\n",
    "plt.xlabel('number of iterations')\n",
    "plt.ylabel('error rate')\n",
    "plt.show()"
   ]
  }
 ],
 "metadata": {
  "interpreter": {
   "hash": "cfe5dda9b6afaed5614e16039d56331fd49eb2ec58b3d40c6c14d4edbbd61cd6"
  },
  "kernelspec": {
   "display_name": "Python 3 (ipykernel)",
   "language": "python",
   "name": "python3"
  },
  "language_info": {
   "codemirror_mode": {
    "name": "ipython",
    "version": 3
   },
   "file_extension": ".py",
   "mimetype": "text/x-python",
   "name": "python",
   "nbconvert_exporter": "python",
   "pygments_lexer": "ipython3",
   "version": "3.8.10"
  }
 },
 "nbformat": 4,
 "nbformat_minor": 2
}
