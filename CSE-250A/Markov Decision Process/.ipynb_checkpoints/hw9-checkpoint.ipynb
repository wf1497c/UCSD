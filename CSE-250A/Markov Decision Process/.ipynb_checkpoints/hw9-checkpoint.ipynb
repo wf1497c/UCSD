{
 "cells": [
  {
   "cell_type": "code",
   "execution_count": 1,
   "metadata": {},
   "outputs": [],
   "source": [
    "import numpy as np"
   ]
  },
  {
   "cell_type": "code",
   "execution_count": 2,
   "metadata": {},
   "outputs": [],
   "source": [
    "A, M, factor = 4, 81, 0.9925\n",
    "\n",
    "prob_a1_sparse = np.loadtxt('prob_a1.txt')\n",
    "prob_a2_sparse = np.loadtxt('prob_a2.txt')\n",
    "prob_a3_sparse = np.loadtxt('prob_a3.txt')\n",
    "prob_a4_sparse = np.loadtxt('prob_a4.txt')\n",
    "rewards = np.loadtxt('rewards.txt')"
   ]
  },
  {
   "cell_type": "code",
   "execution_count": 3,
   "metadata": {},
   "outputs": [],
   "source": [
    "def reconstruct(sparse):\n",
    "    res = np.zeros(M ** 2)\n",
    "    index = ((sparse[:,0] - 1) * M + sparse[:,1]).astype(int)\n",
    "    res[index-1] = sparse[:,2]\n",
    "    return res.reshape(M,M)"
   ]
  },
  {
   "cell_type": "code",
   "execution_count": 4,
   "metadata": {},
   "outputs": [],
   "source": [
    "prob_a1 = reconstruct(prob_a1_sparse)\n",
    "prob_a2 = reconstruct(prob_a2_sparse)\n",
    "prob_a3 = reconstruct(prob_a3_sparse)\n",
    "prob_a4 = reconstruct(prob_a4_sparse)\n",
    "prob = np.array([prob_a1,prob_a2,prob_a3,prob_a4])"
   ]
  },
  {
   "cell_type": "code",
   "execution_count": 5,
   "metadata": {},
   "outputs": [],
   "source": [
    "pi = np.random.randint(4,size = 81)\n",
    "\n",
    "def value_function(P_pi,R):\n",
    "    return (np.linalg.inv(np.eye(M) - factor * P_pi)).dot(R)\n",
    "\n",
    "def choose(prob):\n",
    "    res = np.zeros((M,M))\n",
    "    for i in range(M):\n",
    "        res[i,:] += prob[pi[i]][i,:]\n",
    "    return res\n",
    "\n",
    "def greedy(V_pi):\n",
    "    temp = (prob.dot(V_pi[:,np.newaxis])).reshape(4,81).T\n",
    "    return np.argmax(temp,axis = 1)\n"
   ]
  },
  {
   "cell_type": "code",
   "execution_count": 6,
   "metadata": {},
   "outputs": [],
   "source": [
    "pi_old = np.zeros(81)\n",
    "iteration_p = 0\n",
    "while (np.array_equal(pi_old,pi) == False):\n",
    "    iteration_p += 1\n",
    "    pi_old = pi\n",
    "    P_pi = choose(prob)\n",
    "    V_pi = value_function(P_pi,rewards)\n",
    "    pi = greedy(V_pi)\n",
    "    if iteration_p >= 100:\n",
    "        break"
   ]
  },
  {
   "cell_type": "code",
   "execution_count": 7,
   "metadata": {},
   "outputs": [
    {
     "name": "stdout",
     "output_type": "stream",
     "text": [
      "[2 2 1 3 3 2 2 3 3 0 2 3 3 0 2 1 0 2 0 2 2 3 3 3 3 3 2 2 0 2 1]\n"
     ]
    }
   ],
   "source": [
    "target = [3,11,12,15,16,17,20,22,23,24,26,29,30,31,34,35\n",
    "          ,39,43,48,52,53,56,57,58,59,60,61,62,66,70,71]\n",
    "target = np.array(target) - 1\n",
    "\n",
    "policy_iteration = pi[target]\n",
    "print(policy_iteration)"
   ]
  },
  {
   "cell_type": "code",
   "execution_count": 8,
   "metadata": {},
   "outputs": [
    {
     "name": "stdout",
     "output_type": "stream",
     "text": [
      "3 right\n",
      "11 right\n",
      "12 up\n",
      "15 down\n",
      "16 down\n",
      "17 down\n",
      "20 right\n",
      "22 right\n",
      "23 down\n",
      "24 down\n",
      "26 left\n",
      "29 down\n",
      "30 right\n",
      "31 down\n",
      "34 down\n",
      "35 left\n",
      "39 down\n",
      "43 right\n",
      "48 up\n",
      "52 down\n",
      "53 left\n",
      "56 down\n",
      "57 right\n",
      "58 left\n",
      "59 down\n",
      "60 right\n",
      "61 right\n",
      "62 down\n",
      "66 down\n",
      "70 down\n",
      "71 down\n"
     ]
    }
   ],
   "source": [
    "def action(policy):\n",
    "    res = []\n",
    "    for n in policy:\n",
    "        if n == 0:\n",
    "            res.append('left')\n",
    "        if n == 1:\n",
    "            res.append('up')\n",
    "        if n == 2:\n",
    "            res.append('right')\n",
    "        else:\n",
    "            res.append('down')\n",
    "    \n",
    "    return res\n",
    "\n",
    "policy_order = action(policy_iteration)\n",
    "for i in range(len(target)):\n",
    "    print(target[i] + 1, policy_order[i])"
   ]
  },
  {
   "cell_type": "code",
   "execution_count": 9,
   "metadata": {},
   "outputs": [
    {
     "name": "stdout",
     "output_type": "stream",
     "text": [
      "[100.70098073 102.3752644  101.52364515 109.48993454 110.40903296\n",
      " 111.33584663 103.23462342 106.77826755 107.67462643 108.57848712\n",
      " 112.27044032 104.10121204 104.97507555 105.88853591 114.1632295\n",
      " 113.21287932 103.78140737 115.12155727  90.9853796  116.08792959\n",
      " 122.02491241  81.39949278  93.67165583  95.17285726 108.34261934\n",
      " 109.58365072 123.64307021 123.1822391   81.39949278 125.24978944\n",
      " 124.20738563]\n"
     ]
    }
   ],
   "source": [
    "P_best = choose(prob)\n",
    "V_best = value_function(P_best,rewards)\n",
    "print(V_best[target])"
   ]
  },
  {
   "cell_type": "markdown",
   "metadata": {},
   "source": [
    "Value iteration:"
   ]
  },
  {
   "cell_type": "code",
   "execution_count": 10,
   "metadata": {},
   "outputs": [],
   "source": [
    "V_0 = np.zeros(M) - 1\n",
    "V = np.zeros(M)"
   ]
  },
  {
   "cell_type": "code",
   "execution_count": 11,
   "metadata": {},
   "outputs": [],
   "source": [
    "iteration_v = 0\n",
    "while (np.linalg.norm(V_0-V) >= 0.001):\n",
    "    iteration_v += 1\n",
    "    V_old = V\n",
    "    temp = (prob.dot(V_old[:,np.newaxis])).reshape(4,81).T\n",
    "    V = np.max(temp,axis = 1) * factor + rewards\n",
    "    if iteration_v >= 1000:\n",
    "        break"
   ]
  },
  {
   "cell_type": "code",
   "execution_count": 12,
   "metadata": {},
   "outputs": [
    {
     "name": "stdout",
     "output_type": "stream",
     "text": [
      "3 right\n",
      "11 right\n",
      "12 up\n",
      "15 down\n",
      "16 down\n",
      "17 down\n",
      "20 right\n",
      "22 right\n",
      "23 down\n",
      "24 down\n",
      "26 left\n",
      "29 down\n",
      "30 right\n",
      "31 down\n",
      "34 down\n",
      "35 left\n",
      "39 down\n",
      "43 right\n",
      "48 up\n",
      "52 down\n",
      "53 left\n",
      "56 down\n",
      "57 right\n",
      "58 left\n",
      "59 down\n",
      "60 right\n",
      "61 right\n",
      "62 down\n",
      "66 down\n",
      "70 down\n",
      "71 down\n"
     ]
    }
   ],
   "source": [
    "pi = np.argmax(temp,axis = 1)\n",
    "policy_order_b = action(pi[target])\n",
    "\n",
    "for i in range(len(target)):\n",
    "    print(target[i] + 1, policy_order_b[i])"
   ]
  },
  {
   "cell_type": "code",
   "execution_count": 13,
   "metadata": {},
   "outputs": [
    {
     "data": {
      "text/plain": [
       "array([100.63692741, 102.31121108, 101.45959183, 109.42587593,\n",
       "       110.34497436, 111.27178803, 103.1705701 , 106.71420895,\n",
       "       107.61056782, 108.51442851, 112.20638171, 104.03715872,\n",
       "       104.91102224, 105.82447745, 114.0991709 , 113.14882072,\n",
       "       103.71754439, 115.05749866,  90.92855908, 116.02387098,\n",
       "       121.9571151 ,  81.35263187,  93.61838681,  95.11933784,\n",
       "       108.28232512, 109.52317339, 123.57544379, 123.11434074,\n",
       "        81.35263187, 125.18188072, 124.13947719])"
      ]
     },
     "execution_count": 13,
     "metadata": {},
     "output_type": "execute_result"
    }
   ],
   "source": [
    "V[target]"
   ]
  },
  {
   "cell_type": "code",
   "execution_count": null,
   "metadata": {},
   "outputs": [],
   "source": []
  }
 ],
 "metadata": {
  "interpreter": {
   "hash": "cfe5dda9b6afaed5614e16039d56331fd49eb2ec58b3d40c6c14d4edbbd61cd6"
  },
  "kernelspec": {
   "display_name": "Python 3 (ipykernel)",
   "language": "python",
   "name": "python3"
  },
  "language_info": {
   "codemirror_mode": {
    "name": "ipython",
    "version": 3
   },
   "file_extension": ".py",
   "mimetype": "text/x-python",
   "name": "python",
   "nbconvert_exporter": "python",
   "pygments_lexer": "ipython3",
   "version": "3.8.10"
  }
 },
 "nbformat": 4,
 "nbformat_minor": 2
}
