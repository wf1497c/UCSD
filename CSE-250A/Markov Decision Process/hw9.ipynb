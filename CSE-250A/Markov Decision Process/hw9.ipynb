{
 "cells": [
  {
   "cell_type": "code",
   "execution_count": 4,
   "metadata": {},
   "outputs": [],
   "source": [
    "import numpy as np"
   ]
  },
  {
   "cell_type": "code",
   "execution_count": 8,
   "metadata": {},
   "outputs": [
    {
     "data": {
      "text/plain": [
       "array([[24.],\n",
       "       [12.],\n",
       "       [24.]])"
      ]
     },
     "execution_count": 8,
     "metadata": {},
     "output_type": "execute_result"
    }
   ],
   "source": [
    "a = np.array([[0.75,-0.5,-0],[0,0.75,-0.5],[-0.5,0,0.75]])\n",
    "b = np.array([[12],[-3],[6]])\n",
    "np.linalg.inv(a).dot(b)"
   ]
  },
  {
   "cell_type": "code",
   "execution_count": 3,
   "metadata": {},
   "outputs": [
    {
     "data": {
      "text/plain": [
       "(64, 64)"
      ]
     },
     "execution_count": 3,
     "metadata": {},
     "output_type": "execute_result"
    }
   ],
   "source": [
    "cov = []\n",
    "for i in range(8):\n",
    "    cov_temp = np.random.normal(5,0.3,size=64)\n",
    "    cov.append(np.diag(cov_temp))\n",
    "\n",
    "cov[0].shape"
   ]
  },
  {
   "cell_type": "code",
   "execution_count": 2,
   "metadata": {},
   "outputs": [],
   "source": [
    "A, M, factor = 4, 81, 0.9925\n",
    "\n",
    "prob_a1_sparse = np.loadtxt('prob_a1.txt')\n",
    "prob_a2_sparse = np.loadtxt('prob_a2.txt')\n",
    "prob_a3_sparse = np.loadtxt('prob_a3.txt')\n",
    "prob_a4_sparse = np.loadtxt('prob_a4.txt')\n",
    "rewards = np.loadtxt('rewards.txt')"
   ]
  },
  {
   "cell_type": "code",
   "execution_count": 3,
   "metadata": {},
   "outputs": [],
   "source": [
    "def reconstruct(sparse):\n",
    "    res = np.zeros(M ** 2)\n",
    "    index = ((sparse[:,0] - 1) * M + sparse[:,1]).astype(int)\n",
    "    res[index-1] = sparse[:,2]\n",
    "    return res.reshape(M,M)"
   ]
  },
  {
   "cell_type": "code",
   "execution_count": 4,
   "metadata": {},
   "outputs": [],
   "source": [
    "prob_a1 = reconstruct(prob_a1_sparse)\n",
    "prob_a2 = reconstruct(prob_a2_sparse)\n",
    "prob_a3 = reconstruct(prob_a3_sparse)\n",
    "prob_a4 = reconstruct(prob_a4_sparse)\n",
    "prob = np.array([prob_a1,prob_a2,prob_a3,prob_a4])"
   ]
  },
  {
   "cell_type": "code",
   "execution_count": 5,
   "metadata": {},
   "outputs": [],
   "source": [
    "pi = np.random.randint(4,size = 81)\n",
    "\n",
    "def value_function(P_pi,R):\n",
    "    return (np.linalg.inv(np.eye(M) - factor * P_pi)).dot(R)\n",
    "\n",
    "def choose(prob):\n",
    "    res = np.zeros((M,M))\n",
    "    for i in range(M):\n",
    "        res[i,:] += prob[pi[i]][i,:]\n",
    "    return res\n",
    "\n",
    "def greedy(V_pi):\n",
    "    temp = (prob.dot(V_pi[:,np.newaxis])).reshape(4,81).T\n",
    "    return np.argmax(temp,axis = 1)\n"
   ]
  },
  {
   "cell_type": "code",
   "execution_count": 6,
   "metadata": {},
   "outputs": [],
   "source": [
    "pi_old = np.zeros(81)\n",
    "iteration_p = 0\n",
    "while (np.array_equal(pi_old,pi) == False):\n",
    "    iteration_p += 1\n",
    "    pi_old = pi\n",
    "    P_pi = choose(prob)\n",
    "    V_pi = value_function(P_pi,rewards)\n",
    "    pi = greedy(V_pi)\n",
    "    if iteration_p >= 100:\n",
    "        break"
   ]
  },
  {
   "cell_type": "code",
   "execution_count": 7,
   "metadata": {},
   "outputs": [
    {
     "name": "stdout",
     "output_type": "stream",
     "text": [
      "[2 2 1 3 3 2 2 3 3 0 2 3 3 0 2 1 0 2 0 2 2 3 3 3 3 3 2 2 0 2 1]\n"
     ]
    }
   ],
   "source": [
    "target = [3,11,12,15,16,17,20,22,23,24,26,29,30,31,34,35\n",
    "          ,39,43,48,52,53,56,57,58,59,60,61,62,66,70,71]\n",
    "target = np.array(target) - 1\n",
    "\n",
    "policy_iteration = pi[target]\n",
    "print(policy_iteration)"
   ]
  },
  {
   "cell_type": "code",
   "execution_count": 8,
   "metadata": {},
   "outputs": [
    {
     "name": "stdout",
     "output_type": "stream",
     "text": [
      "3 right\n",
      "11 right\n",
      "12 up\n",
      "15 down\n",
      "16 down\n",
      "17 down\n",
      "20 right\n",
      "22 right\n",
      "23 down\n",
      "24 down\n",
      "26 left\n",
      "29 down\n",
      "30 right\n",
      "31 down\n",
      "34 down\n",
      "35 left\n",
      "39 down\n",
      "43 right\n",
      "48 up\n",
      "52 down\n",
      "53 left\n",
      "56 down\n",
      "57 right\n",
      "58 left\n",
      "59 down\n",
      "60 right\n",
      "61 right\n",
      "62 down\n",
      "66 down\n",
      "70 down\n",
      "71 down\n"
     ]
    }
   ],
   "source": [
    "def action(policy):\n",
    "    res = []\n",
    "    for n in policy:\n",
    "        if n == 0:\n",
    "            res.append('left')\n",
    "        if n == 1:\n",
    "            res.append('up')\n",
    "        if n == 2:\n",
    "            res.append('right')\n",
    "        else:\n",
    "            res.append('down')\n",
    "    \n",
    "    return res\n",
    "\n",
    "policy_order = action(policy_iteration)\n",
    "for i in range(len(target)):\n",
    "    print(target[i] + 1, policy_order[i])"
   ]
  },
  {
   "cell_type": "code",
   "execution_count": 9,
   "metadata": {},
   "outputs": [
    {
     "name": "stdout",
     "output_type": "stream",
     "text": [
      "3 100.70098072748911\n",
      "11 102.37526440102091\n",
      "12 101.52364514898127\n",
      "15 109.48993453646305\n",
      "16 110.40903296181362\n",
      "17 111.3358466339684\n",
      "20 103.23462341601049\n",
      "22 106.77826755022934\n",
      "23 107.67462642880356\n",
      "24 108.57848711681841\n",
      "26 112.27044031794428\n",
      "29 104.10121204279733\n",
      "30 104.97507555494721\n",
      "31 105.88853590955101\n",
      "34 114.16322950263663\n",
      "35 113.21287932200798\n",
      "39 103.78140737394392\n",
      "43 115.1215572691303\n",
      "48 90.98537960093466\n",
      "52 116.087929588253\n",
      "53 122.02491241481366\n",
      "56 81.39949278128714\n",
      "57 93.67165583314662\n",
      "58 95.17285726464925\n",
      "59 108.3426193434063\n",
      "60 109.58365071834504\n",
      "61 123.64307020769661\n",
      "62 123.18223909953842\n",
      "66 81.39949278128717\n",
      "70 125.24978943555789\n",
      "71 124.2073856333965\n"
     ]
    }
   ],
   "source": [
    "P_best = choose(prob)\n",
    "V_best = value_function(P_best,rewards)\n",
    "\n",
    "for i in range(len(target)):\n",
    "    print(target[i] + 1, V_best[target[i]])"
   ]
  },
  {
   "cell_type": "markdown",
   "metadata": {},
   "source": [
    "Value iteration:"
   ]
  },
  {
   "cell_type": "code",
   "execution_count": 10,
   "metadata": {},
   "outputs": [],
   "source": [
    "V_0 = np.zeros(M) - 1\n",
    "V = np.zeros(M)"
   ]
  },
  {
   "cell_type": "code",
   "execution_count": 11,
   "metadata": {},
   "outputs": [],
   "source": [
    "iteration_v = 0\n",
    "while (np.linalg.norm(V_0-V) >= 0.001):\n",
    "    iteration_v += 1\n",
    "    V_old = V\n",
    "    temp = (prob.dot(V_old[:,np.newaxis])).reshape(4,81).T\n",
    "    V = np.max(temp,axis = 1) * factor + rewards\n",
    "    if iteration_v >= 1000:\n",
    "        break"
   ]
  },
  {
   "cell_type": "code",
   "execution_count": 12,
   "metadata": {},
   "outputs": [
    {
     "name": "stdout",
     "output_type": "stream",
     "text": [
      "3 right\n",
      "11 right\n",
      "12 up\n",
      "15 down\n",
      "16 down\n",
      "17 down\n",
      "20 right\n",
      "22 right\n",
      "23 down\n",
      "24 down\n",
      "26 left\n",
      "29 down\n",
      "30 right\n",
      "31 down\n",
      "34 down\n",
      "35 left\n",
      "39 down\n",
      "43 right\n",
      "48 up\n",
      "52 down\n",
      "53 left\n",
      "56 down\n",
      "57 right\n",
      "58 left\n",
      "59 down\n",
      "60 right\n",
      "61 right\n",
      "62 down\n",
      "66 down\n",
      "70 down\n",
      "71 down\n"
     ]
    }
   ],
   "source": [
    "pi = np.argmax(temp,axis = 1)\n",
    "policy_order_b = action(pi[target])\n",
    "\n",
    "for i in range(len(target)):\n",
    "    print(target[i] + 1, policy_order_b[i])"
   ]
  },
  {
   "cell_type": "code",
   "execution_count": 13,
   "metadata": {},
   "outputs": [
    {
     "name": "stdout",
     "output_type": "stream",
     "text": [
      "3 100.6369274095141\n",
      "11 102.3112110830459\n",
      "12 101.45959183100628\n",
      "15 109.42587593135482\n",
      "16 110.3449743567053\n",
      "17 111.27178802886007\n",
      "20 103.17057009803548\n",
      "22 106.71420894898309\n",
      "23 107.61056782379963\n",
      "24 108.51442851171294\n",
      "26 112.20638171283598\n",
      "29 104.03715872482236\n",
      "30 104.91102223697223\n",
      "31 105.82447744733823\n",
      "34 114.0991708975283\n",
      "35 113.14882071689965\n",
      "39 103.71754439276856\n",
      "43 115.05749866402195\n",
      "48 90.92855908134533\n",
      "52 116.02387098314469\n",
      "53 121.95711509767986\n",
      "56 81.352631874468\n",
      "57 93.6183868085393\n",
      "58 95.11933784164746\n",
      "59 108.28232511529859\n",
      "60 109.52317338739665\n",
      "61 123.57544378730873\n",
      "62 123.11434073613364\n",
      "66 81.352631874468\n",
      "70 125.18188071890775\n",
      "71 124.13947718920015\n"
     ]
    }
   ],
   "source": [
    "for i in range(len(target)):\n",
    "    print(target[i] + 1, V[target[i]])"
   ]
  }
 ],
 "metadata": {
  "interpreter": {
   "hash": "cfe5dda9b6afaed5614e16039d56331fd49eb2ec58b3d40c6c14d4edbbd61cd6"
  },
  "kernelspec": {
   "display_name": "Python 3 (ipykernel)",
   "language": "python",
   "name": "python3"
  },
  "language_info": {
   "codemirror_mode": {
    "name": "ipython",
    "version": 3
   },
   "file_extension": ".py",
   "mimetype": "text/x-python",
   "name": "python",
   "nbconvert_exporter": "python",
   "pygments_lexer": "ipython3",
   "version": "3.8.10"
  }
 },
 "nbformat": 4,
 "nbformat_minor": 2
}
