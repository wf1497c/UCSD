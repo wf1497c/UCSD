{
 "cells": [
  {
   "cell_type": "code",
   "execution_count": 1,
   "id": "d2ee6156",
   "metadata": {},
   "outputs": [
    {
     "ename": "ModuleNotFoundError",
     "evalue": "No module named 'pandas'",
     "output_type": "error",
     "traceback": [
      "\u001b[0;31m---------------------------------------------------------------------------\u001b[0m",
      "\u001b[0;31mModuleNotFoundError\u001b[0m                       Traceback (most recent call last)",
      "\u001b[0;32m/tmp/ipykernel_3586/1980969484.py\u001b[0m in \u001b[0;36m<module>\u001b[0;34m\u001b[0m\n\u001b[0;32m----> 1\u001b[0;31m \u001b[0;32mimport\u001b[0m \u001b[0mpandas\u001b[0m \u001b[0;32mas\u001b[0m \u001b[0mpd\u001b[0m\u001b[0;34m\u001b[0m\u001b[0;34m\u001b[0m\u001b[0m\n\u001b[0m\u001b[1;32m      2\u001b[0m \u001b[0;32mimport\u001b[0m \u001b[0mnumpy\u001b[0m \u001b[0;32mas\u001b[0m \u001b[0mnp\u001b[0m\u001b[0;34m\u001b[0m\u001b[0;34m\u001b[0m\u001b[0m\n\u001b[1;32m      3\u001b[0m \u001b[0;34m\u001b[0m\u001b[0m\n\u001b[1;32m      4\u001b[0m \u001b[0minput\u001b[0m \u001b[0;34m=\u001b[0m \u001b[0mpd\u001b[0m\u001b[0;34m.\u001b[0m\u001b[0mread_csv\u001b[0m\u001b[0;34m(\u001b[0m\u001b[0;34m'hw1_word_counts_05.txt'\u001b[0m\u001b[0;34m,\u001b[0m \u001b[0msep\u001b[0m \u001b[0;34m=\u001b[0m \u001b[0;34m' '\u001b[0m\u001b[0;34m,\u001b[0m \u001b[0mheader\u001b[0m \u001b[0;34m=\u001b[0m \u001b[0;32mNone\u001b[0m\u001b[0;34m,\u001b[0m \u001b[0mnames\u001b[0m \u001b[0;34m=\u001b[0m \u001b[0;34m[\u001b[0m\u001b[0;34m\"word\"\u001b[0m\u001b[0;34m,\u001b[0m \u001b[0;34m\"count\"\u001b[0m\u001b[0;34m]\u001b[0m\u001b[0;34m)\u001b[0m\u001b[0;34m\u001b[0m\u001b[0;34m\u001b[0m\u001b[0m\n\u001b[1;32m      5\u001b[0m \u001b[0mprint\u001b[0m\u001b[0;34m(\u001b[0m\u001b[0minput\u001b[0m\u001b[0;34m.\u001b[0m\u001b[0mhead\u001b[0m\u001b[0;34m(\u001b[0m\u001b[0;36m8\u001b[0m\u001b[0;34m)\u001b[0m\u001b[0;34m)\u001b[0m\u001b[0;34m\u001b[0m\u001b[0;34m\u001b[0m\u001b[0m\n",
      "\u001b[0;31mModuleNotFoundError\u001b[0m: No module named 'pandas'"
     ]
    }
   ],
   "source": [
    "import pandas as pd\n",
    "import numpy as np\n",
    "\n",
    "input = pd.read_csv('hw1_word_counts_05.txt', sep = ' ', header = None, names = [\"word\", \"count\"])\n",
    "print(input.head(8))"
   ]
  },
  {
   "cell_type": "code",
   "execution_count": 2,
   "id": "51a7d938",
   "metadata": {},
   "outputs": [
    {
     "name": "stdout",
     "output_type": "stream",
     "text": [
      "15 most frequent 5-letters words:\n",
      "       word   count\n",
      "5821  THREE  273077\n",
      "5102  SEVEN  178842\n",
      "1684  EIGHT  165764\n",
      "6403  WOULD  159875\n",
      "18    ABOUT  157448\n",
      "5804  THEIR  145434\n",
      "6320  WHICH  142146\n",
      "73    AFTER  110102\n",
      "1975  FIRST  109957\n",
      "1947  FIFTY  106869\n",
      "4158  OTHER  106052\n",
      "2073  FORTY   94951\n",
      "6457  YEARS   88900\n",
      "5806  THERE   86502\n",
      "5250  SIXTY   73086\n",
      "14 least frequent 5-letters words:\n",
      "       word  count\n",
      "6443  YALOM      7\n",
      "5872  TOCOR      7\n",
      "5093  SERNA      7\n",
      "4266  PAXON      7\n",
      "3978  NIAID      7\n",
      "2041  FOAMY      7\n",
      "1842  FABRI      7\n",
      "1107  CLEFT      7\n",
      "977   CCAIR      7\n",
      "5985  TROUP      6\n",
      "4160  OTTIS      6\n",
      "3554  MAPCO      6\n",
      "895   CAIXA      6\n",
      "712   BOSAK      6\n"
     ]
    }
   ],
   "source": [
    "########## Problem a: 15/14 most/least frequent 5-letter words ##########\n",
    "input = input.sort_values(by = [\"count\",\"word\"], ascending=False)\n",
    "print(\"15 most frequent 5-letters words:\")\n",
    "print(input.head(15))\n",
    "print(\"14 least frequent 5-letters words:\")\n",
    "print(input.tail(14))"
   ]
  },
  {
   "cell_type": "code",
   "execution_count": 3,
   "id": "d5532d29",
   "metadata": {},
   "outputs": [],
   "source": [
    "# Prior probability P(W = w)\n",
    "\n",
    "total = input[\"count\"].sum()\n",
    "input[\"prior\"] = input[\"count\"] / total"
   ]
  },
  {
   "cell_type": "code",
   "execution_count": 4,
   "id": "5d8b4f1c",
   "metadata": {},
   "outputs": [],
   "source": [
    "########## Problem b: Best guess for different conditions ##########\n",
    "\n",
    "# Initialize two dataframes for recording current guess: correct and incorrect guess set\n",
    "# Correct guess set is a 1D array which records single letter in a position, and\n",
    "# incorrect guess set is a 1D array which contains a set of incorrectly guess letters in a position, e.g.\n",
    "# if incorrectly guess = {E,A}, then {E,A} should appear for all indices in this array\n",
    "\n",
    "letter_index = range(1,6)\n",
    "correct_letter = [\"-\" for i in range(5)]\n",
    "correct_evidence_set = pd.DataFrame({'Index': letter_index, 'Letter': correct_letter})\n",
    "\n",
    "incorrect_letter = [set() for i in range(5)]\n",
    "incorrect_evidence_set = pd.DataFrame({'Index': letter_index, 'Letter': incorrect_letter})"
   ]
  },
  {
   "cell_type": "code",
   "execution_count": 5,
   "id": "b4e0042d",
   "metadata": {},
   "outputs": [],
   "source": [
    "# Complementary: Indices with correct guess are incorrect guess in other Indices\n",
    "def set_incorrect_evidences(correct_guess_i, correct_guess_l):\n",
    "    for i, r in incorrect_evidence_set.iterrows():\n",
    "        if r['Index'] != correct_guess_i:\n",
    "            incorrect_evidence_set.at[r['Index']-1, 'Letter'].add(correct_guess_l)\n",
    "    \n",
    "# Correct evidences update\n",
    "# Take \"D--I-\" case as example\n",
    "\n",
    "correct_evidence_set.at[0, 'Letter'] = \"D\"\n",
    "correct_evidence_set.at[3, 'Letter'] = \"I\"\n",
    "#correct_evidence_set.at[1, 'Letter'] = \"U\"\n",
    "aleady_guessed_set = set({\"D\", \"I\"})\n",
    "\n",
    "# Update incorrect_evidence_set by correct guess\n",
    "for i, r in correct_evidence_set.iterrows():\n",
    "    if r['Letter'] != \"-\" and r['Letter'] != ' ': \n",
    "        set_incorrect_evidences(r['Index'], r['Letter'])\n",
    "\n",
    "# update incorrect_evidence_set by incorrect guess\n",
    "incorrect_guess_set = []\n",
    "if incorrect_guess_set:\n",
    "    aleady_guessed_set.update(incorrect_guess_set)\n",
    "    for letter in incorrect_guess_set:\n",
    "        for index, row in incorrect_evidence_set.iterrows():\n",
    "            incorrect_evidence_set.at[index, 'Letter'].add(letter)\n"
   ]
  },
  {
   "cell_type": "code",
   "execution_count": 6,
   "id": "d3080bce",
   "metadata": {},
   "outputs": [],
   "source": [
    "# Probability of evidence given word: 1 or 0\n",
    "# for example, given W = \"three\", probability of \"index 0 == t\" = 1, and\n",
    "# probability of \"index 0 == a\" = 0\n",
    "# We need to consider incorrect and correct sets at the same time: \n",
    "# joint probability of P(evidence|W) = P(correct_evi|W) * P(incorrect_evi|W) = 1 or 0\n",
    "\n",
    "def Correct_evidence_match(word, correct_evidence_set):\n",
    "    for i, r in correct_evidence_set.iterrows():\n",
    "        if r['Letter'] != '-' and word[i] != r['Letter']:\n",
    "            return 0\n",
    "    \n",
    "    return 1\n",
    "\n",
    "def Incorrect_evidence_match(word, incorrect_evidence_set):\n",
    "    for i, r in incorrect_evidence_set.iterrows():\n",
    "        if r['Letter']:\n",
    "            if word[i] in r['Letter']:\n",
    "                return 0\n",
    "\n",
    "    return 1\n",
    "\n",
    "def prob_evidence_given_W(word):\n",
    "    return Correct_evidence_match(word, correct_evidence_set) and Incorrect_evidence_match(word, incorrect_evidence_set)"
   ]
  },
  {
   "cell_type": "code",
   "execution_count": 7,
   "id": "6247d2ab",
   "metadata": {},
   "outputs": [],
   "source": [
    "# Prior probability of evidence, which is the denominator of\n",
    "# P(W|E)\n",
    "\n",
    "prob_prior_evidence = 0\n",
    "for input_i, input_r in input.iterrows():\n",
    "    prob_prior_evidence += prob_evidence_given_W(input_r[\"word\"]) * input_r[\"prior\"]"
   ]
  },
  {
   "cell_type": "code",
   "execution_count": 8,
   "id": "a9c6e9af",
   "metadata": {},
   "outputs": [],
   "source": [
    "# P(Li|W) can be simply acquired by check whether a letter is in a word or not: 1 or 0\n",
    "\n",
    "def prob_letter_given_W(letter, word):\n",
    "    return letter in word"
   ]
  },
  {
   "cell_type": "code",
   "execution_count": 9,
   "id": "1266417b",
   "metadata": {},
   "outputs": [],
   "source": [
    "# Goal: find a letter guess candidate which maximizes the probability of such letter given evidence\n",
    "# Record this conditional probability for all letters\n",
    "\n",
    "letters = [\"A\",\"B\",\"C\",\"D\",\"E\",\"F\",\"G\",\"H\",\"I\",\"J\",\"K\",\"L\",\"M\",\"N\",\"O\",\"P\",\"Q\",\"R\",\"S\",\"T\",\"U\",\"V\",\"W\",\"X\",\"Y\",\"Z\"]\n",
    "prob_letter_given_evidence = pd.DataFrame({\"Letters\": letters, \"Probability\": np.zeros(26)})"
   ]
  },
  {
   "cell_type": "code",
   "execution_count": 10,
   "id": "a2be79ab",
   "metadata": {},
   "outputs": [
    {
     "name": "stdout",
     "output_type": "stream",
     "text": [
      "Probability for:  A  is : 0.8206845238095238\n",
      "Probability for:  B  is : 0.017113095238095236\n",
      "Probability for:  C  is : 0.0\n",
      "Probability for:  D  is : 0.0\n",
      "Probability for:  E  is : 0.14081101190476186\n",
      "Probability for:  F  is : 0.0\n",
      "Probability for:  G  is : 0.0\n",
      "Probability for:  H  is : 0.0\n",
      "Probability for:  I  is : 0.0\n",
      "Probability for:  J  is : 0.006882440476190476\n",
      "Probability for:  K  is : 0.003162202380952381\n",
      "Probability for:  L  is : 0.07384672619047619\n",
      "Probability for:  M  is : 0.017857142857142856\n",
      "Probability for:  N  is : 0.1860119047619047\n",
      "Probability for:  O  is : 0.04538690476190476\n",
      "Probability for:  P  is : 0.006882440476190476\n",
      "Probability for:  Q  is : 0.0\n",
      "Probability for:  R  is : 0.18098958333333331\n",
      "Probability for:  S  is : 0.7395833333333334\n",
      "Probability for:  T  is : 0.01525297619047619\n",
      "Probability for:  U  is : 0.0018601190476190477\n",
      "Probability for:  V  is : 0.7436755952380953\n",
      "Probability for:  W  is : 0.0\n",
      "Probability for:  X  is : 0.0\n",
      "Probability for:  Y  is : 0.0\n",
      "Probability for:  Z  is : 0.0\n"
     ]
    }
   ],
   "source": [
    "# Calculate conditional P(Li|evidence) and find the optimal guess\n",
    "for letter_i, letter_row in prob_letter_given_evidence.iterrows():\n",
    "    cur_letter = letter_row[\"Letters\"]\n",
    "    if cur_letter in aleady_guessed_set:\n",
    "        print(\"Probability for: \", cur_letter,\" is :\", 0.0)\n",
    "        continue\n",
    "    \n",
    "    prob_cur_letter_given_evidence = 0\n",
    "    for w_i, w_row in input.iterrows():\n",
    "        cur_word = w_row[\"word\"]\n",
    "\n",
    "        # calculate the P(W = w|evidence)(Key 1)\n",
    "        numerator = prob_evidence_given_W(cur_word) * w_row[\"prior\"]\n",
    "        denominator = prob_prior_evidence\n",
    "        \n",
    "        prob_W_given_evidence = numerator / denominator\n",
    "        # Marginalization: calculate P(Li|evidence) (Key2)\n",
    "        prob_cur_letter_given_evidence += prob_W_given_evidence * prob_letter_given_W(cur_letter, cur_word)\n",
    "\n",
    "    print(\"Probability for: \", letter_row['Letters'],\" is :\", prob_cur_letter_given_evidence)\n",
    "    prob_letter_given_evidence.at[letter_i, 'Probability'] = prob_cur_letter_given_evidence\n"
   ]
  },
  {
   "cell_type": "code",
   "execution_count": 11,
   "id": "2b1b89e1",
   "metadata": {},
   "outputs": [
    {
     "name": "stdout",
     "output_type": "stream",
     "text": [
      "My next guess is    Letters  Probability\n",
      "0       A     0.820685\n"
     ]
    }
   ],
   "source": [
    "Best_guess = prob_letter_given_evidence.sort_values(\"Probability\", ascending = False).head(1)\n",
    "print(\"My next guess is \", Best_guess)"
   ]
  }
 ],
 "metadata": {
  "interpreter": {
   "hash": "916dbcbb3f70747c44a77c7bcd40155683ae19c65e1c03b4aa3499c5328201f1"
  },
  "kernelspec": {
   "display_name": "Python 3.8.10 64-bit",
   "name": "python3"
  },
  "language_info": {
   "codemirror_mode": {
    "name": "ipython",
    "version": 3
   },
   "file_extension": ".py",
   "mimetype": "text/x-python",
   "name": "python",
   "nbconvert_exporter": "python",
   "pygments_lexer": "ipython3",
   "version": "3.8.10"
  }
 },
 "nbformat": 4,
 "nbformat_minor": 5
}
