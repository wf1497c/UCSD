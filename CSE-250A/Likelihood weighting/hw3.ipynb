{
 "cells": [
  {
   "cell_type": "code",
   "execution_count": null,
   "metadata": {},
   "outputs": [],
   "source": [
    "import numpy as np\n",
    "from numpy import random\n",
    "import matplotlib.pyplot as plt"
   ]
  },
  {
   "cell_type": "code",
   "execution_count": null,
   "metadata": {},
   "outputs": [],
   "source": [
    "n = 10 # number of bits\n",
    "alpha = 0.1\n",
    "Z = 128 "
   ]
  },
  {
   "cell_type": "code",
   "execution_count": null,
   "metadata": {},
   "outputs": [],
   "source": [
    "def F_B(B):\n",
    "    sum = 0\n",
    "    for i in range(len(B)):\n",
    "        sum += pow(2,i) * B[i]\n",
    "\n",
    "    return sum"
   ]
  },
  {
   "cell_type": "code",
   "execution_count": null,
   "metadata": {},
   "outputs": [],
   "source": [
    "def LL_weighting(B):\n",
    "    order = np.abs(Z - F_B(B))\n",
    "    coeff = (1 - alpha) / (1 + alpha)\n",
    "\n",
    "    return coeff * pow(alpha,order)"
   ]
  },
  {
   "cell_type": "code",
   "execution_count": null,
   "metadata": {},
   "outputs": [],
   "source": [
    "def Sampling(Bi, number_of_sample):\n",
    "    numerator = 0.0\n",
    "    denominator = 0.0\n",
    "\n",
    "    for i in range(number_of_sample):\n",
    "        rand_B = random.randint(2, size = n)\n",
    "        denominator += LL_weighting(rand_B)\n",
    "        indicator = rand_B[Bi-1] # e.g. i = 2, then indicator = rand_B[1] for python array index\n",
    "        numerator += indicator * LL_weighting(rand_B)\n",
    "\n",
    "    return numerator / denominator"
   ]
  },
  {
   "cell_type": "code",
   "execution_count": null,
   "metadata": {},
   "outputs": [],
   "source": [
    "########### Problem 3.6 ###########\n",
    "sample_N = 100000\n",
    "Bi = [2,5,8,10]\n",
    "for i in Bi:\n",
    "    print(\"P(B%d=1|Z=128) = %f\" % (i, Sampling(i,sample_N)))"
   ]
  },
  {
   "cell_type": "code",
   "execution_count": null,
   "metadata": {},
   "outputs": [],
   "source": [
    "N_exp = range(2,7)\n",
    "N_size = []\n",
    "b2 = []\n",
    "b5 = []\n",
    "b8 = []\n",
    "b10 = []\n",
    "for exp in N_exp:\n",
    "    N = pow(10,exp)\n",
    "    N_size.append(N)\n",
    "    print(\"Sampling %d times:\" % N)\n",
    "    prob = Sampling(2,N)\n",
    "    b2.append(prob)\n",
    "    print(\"P(B%d=1|Z=128) = %f\" % (2, prob))\n",
    "    prob = Sampling(5,N)\n",
    "    b5.append(prob)\n",
    "    print(\"P(B%d=1|Z=128) = %f\" % (5, prob))\n",
    "    prob = Sampling(8,N)\n",
    "    b8.append(prob)\n",
    "    print(\"P(B%d=1|Z=128) = %f\" % (8, prob))\n",
    "    prob = Sampling(10,N)\n",
    "    b10.append(prob)\n",
    "    print(\"P(B%d=1|Z=128) = %f\" % (10, prob))"
   ]
  },
  {
   "cell_type": "code",
   "execution_count": null,
   "metadata": {},
   "outputs": [],
   "source": [
    "plt.plot(N_size, b2, 'o-', color='r', label = 'P(B2=1|Z=128)')\n",
    "plt.plot(N_size, b5, 'o-', color='b', label = 'P(B5=1|Z=128)')\n",
    "plt.plot(N_size, b8, 'o-', color='g', label = 'P(B8=1|Z=128)')\n",
    "plt.plot(N_size, b10, 'o-', color='y', label = 'P(B10=1|Z=128)')\n",
    "\n",
    "plt.legend()\n",
    "plt.ylabel('Probability')\n",
    "plt.xlabel('Sampling Size')\n",
    "plt.show()"
   ]
  }
 ],
 "metadata": {
  "language_info": {
   "name": "python"
  },
  "orig_nbformat": 4
 },
 "nbformat": 4,
 "nbformat_minor": 2
}
