{
 "cells": [
  {
   "cell_type": "code",
   "execution_count": 1,
   "metadata": {},
   "outputs": [],
   "source": [
    "import numpy as np\n",
    "from scipy.io import loadmat\n",
    "import cv2\n",
    "m = loadmat('hw3Data/TrainingSamplesDCT_subsets_8.mat')\n",
    "p1 = loadmat('hw3Data/Prior_1.mat')\n",
    "p2 = loadmat('hw3Data/Prior_2.mat')\n",
    "alpha = loadmat('hw3Data/Alpha.mat')"
   ]
  },
  {
   "cell_type": "code",
   "execution_count": 2,
   "metadata": {},
   "outputs": [],
   "source": [
    "BG1,BG2,BG3,BG4 = m['D1_BG'],m['D2_BG'],m['D3_BG'],m['D4_BG']\n",
    "FG1,FG2,FG3,FG4 = m['D1_FG'],m['D2_FG'],m['D3_FG'],m['D4_FG']\n",
    "w0_1,mu0_FG_1,mu0_BG_1 = p1['W0'],p1['mu0_FG'].T,p1['mu0_BG'].T\n",
    "w0_2,mu0_FG_2,mu0_BG_2 = p2['W0'],p2['mu0_FG'].T,p2['mu0_BG'].T\n",
    "a = alpha['alpha']"
   ]
  },
  {
   "cell_type": "code",
   "execution_count": 3,
   "metadata": {},
   "outputs": [],
   "source": [
    "BG = [BG1,BG2,BG3,BG4]\n",
    "FG = [FG1,FG2,FG3,FG4]\n",
    "w0 = [w0_1,w0_2]\n",
    "mu0_FG = [mu0_FG_1,mu0_FG_2]\n",
    "mu0_BG = [mu0_BG_1,mu0_BG_2]"
   ]
  },
  {
   "cell_type": "code",
   "execution_count": 4,
   "metadata": {},
   "outputs": [],
   "source": [
    "cov_FG,cov_BG = [],[]\n",
    "mu_FG,mu_BG = [],[]\n",
    "for i in range(len(FG)):\n",
    "    FG_cov = np.cov(FG[i].T) * (FG[i].shape[0]-1)/(FG[i].shape[0])\n",
    "    BG_cov = np.cov(BG[i].T) * (BG[i].shape[0]-1)/(BG[i].shape[0])\n",
    "    FG_mu = np.mean(FG[i],axis = 0)[:,np.newaxis]\n",
    "    BG_mu = np.mean(BG[i],axis = 0)[:,np.newaxis]\n",
    "    cov_FG.append(FG_cov)\n",
    "    cov_BG.append(BG_cov)\n",
    "    mu_FG.append(FG_mu)\n",
    "    mu_BG.append(BG_mu)"
   ]
  },
  {
   "cell_type": "code",
   "execution_count": 5,
   "metadata": {},
   "outputs": [],
   "source": [
    "temp = a.T.dot(w0[0])\n",
    "cov0 = np.zeros((9,4096))\n",
    "cov0[:,[i for i in range(0,4097,65)]] += temp\n",
    "cov0_1 = cov0.reshape(9,64,64)"
   ]
  },
  {
   "cell_type": "code",
   "execution_count": 6,
   "metadata": {},
   "outputs": [],
   "source": [
    "temp = a.T.dot(w0[1])\n",
    "cov0 = np.zeros((9,4096))\n",
    "cov0[:,[i for i in range(0,4097,65)]] += temp\n",
    "cov0_2 = cov0.reshape(9,64,64)"
   ]
  },
  {
   "cell_type": "code",
   "execution_count": 7,
   "metadata": {},
   "outputs": [],
   "source": [
    "cov0 = [cov0_1,cov0_2]"
   ]
  },
  {
   "cell_type": "code",
   "execution_count": 8,
   "metadata": {},
   "outputs": [],
   "source": [
    "from numpy.linalg import inv,det\n",
    "cov1_FG_1,cov1_FG_2 = [],[]\n",
    "cov1_BG_1,cov1_BG_2 = [],[]\n",
    "mu1_FG_1,mu1_FG_2 = [],[]\n",
    "mu1_BG_1,mu1_BG_2 = [],[]\n",
    "for i in range(len(FG)):\n",
    "    for j in range(len(cov0)):\n",
    "        mu1_FG,mu1_BG = np.zeros(shape = (9,64,1),dtype = 'float'),np.zeros(shape = (9,64,1),dtype = 'float')\n",
    "        cov1_FG,cov1_BG = np.zeros(shape = (9,64,64),dtype = 'float'),np.zeros(shape = (9,64,64),dtype = 'float')\n",
    "        for k in range(a.shape[1]):\n",
    "            cov0_FG,cov0_BG = cov0[j][k],cov0[j][k]\n",
    "            weight1_FG = cov0_FG.dot(inv(cov0_FG + cov_FG[i]/FG[i].shape[0]))\n",
    "            weight1_BG = cov0_BG.dot(inv(cov0_BG + cov_BG[i]/BG[i].shape[0]))\n",
    "            weight2_FG = (cov_FG[i]/FG[i].shape[0]).dot(inv(cov0_FG + cov_FG[i]/FG[i].shape[0]))\n",
    "            weight2_BG = (cov_BG[i]/BG[i].shape[0]).dot(inv(cov0_BG + cov_BG[i]/BG[i].shape[0]))\n",
    "            FG_mu1 = weight1_FG.dot(mu_FG[i]) + weight2_FG.dot(mu0_FG[j])\n",
    "            BG_mu1 = weight1_BG.dot(mu_BG[i]) + weight2_BG.dot(mu0_BG[j])\n",
    "            FG_cov1 = (cov0_FG.dot(inv(cov0_FG + cov_FG[i]/FG[i].shape[0]))).dot(cov_FG[i]/FG[i].shape[0])\n",
    "            BG_cov1 = (cov0_BG.dot(inv(cov0_BG + cov_BG[i]/BG[i].shape[0]))).dot(cov_BG[i]/BG[i].shape[0])\n",
    "            mu1_FG[k] = mu1_FG[k] + FG_mu1\n",
    "            mu1_BG[k] = mu1_BG[k] + BG_mu1\n",
    "            cov1_FG[k] = cov1_FG[k] + FG_cov1\n",
    "            cov1_BG[k] = cov1_BG[k] + BG_cov1\n",
    "        if j == 0:\n",
    "            cov1_FG_1.append(cov1_FG)\n",
    "            cov1_BG_1.append(cov1_BG)\n",
    "            mu1_FG_1.append(mu1_FG)\n",
    "            mu1_BG_1.append(mu1_BG)\n",
    "        else:\n",
    "            cov1_FG_2.append(cov1_FG)\n",
    "            cov1_BG_2.append(cov1_BG)\n",
    "            mu1_FG_2.append(mu1_FG)\n",
    "            mu1_BG_2.append(mu1_BG)"
   ]
  },
  {
   "cell_type": "code",
   "execution_count": 9,
   "metadata": {},
   "outputs": [],
   "source": [
    "mu1_pred_FG_1,mu1_pred_FG_2 = mu1_FG_1,mu1_FG_2\n",
    "mu1_pred_BG_1,mu1_pred_BG_2 = mu1_BG_1,mu1_BG_2\n",
    "cov1_pred_FG_1,cov1_pred_FG_2 = [],[]\n",
    "cov1_pred_BG_1,cov1_pred_BG_2 = [],[]\n",
    "for i in range(len(FG)):\n",
    "    FG_1 = cov1_FG_1[i] + cov_FG[i]\n",
    "    FG_2 = cov1_FG_2[i] + cov_FG[i]\n",
    "    BG_1 = cov1_BG_1[i] + cov_BG[i]\n",
    "    BG_2 = cov1_BG_2[i] + cov_BG[i]\n",
    "    cov1_pred_FG_1.append(FG_1)\n",
    "    cov1_pred_FG_2.append(FG_2)\n",
    "    cov1_pred_BG_1.append(BG_1)\n",
    "    cov1_pred_BG_2.append(BG_2)"
   ]
  },
  {
   "cell_type": "code",
   "execution_count": 10,
   "metadata": {},
   "outputs": [
    {
     "name": "stdout",
     "output_type": "stream",
     "text": [
      "[0.2 0.2 0.2 0.2]\n"
     ]
    }
   ],
   "source": [
    "prior_cheetah,prior_grass = [],[]\n",
    "for i in range(len(FG)):\n",
    "    prior_cheetah.append(FG[i].shape[0]/(FG[i].shape[0]+BG[i].shape[0]))\n",
    "    prior_grass.append(BG[i].shape[0]/(FG[i].shape[0]+BG[i].shape[0]))\n",
    "prior_cheetah = np.array(prior_cheetah)\n",
    "prior_grass = np.array(prior_grass)\n",
    "print(prior_cheetah)"
   ]
  },
  {
   "cell_type": "code",
   "execution_count": 11,
   "metadata": {},
   "outputs": [],
   "source": [
    "# define the zigzag transformation\n",
    "zig_zag = np.array([[0,1,5,6,14,15,27,28],[2,4,7,13,16,26,29,42],[3,8,12,17,25,30,41,43],\n",
    "                   [9,11,18,24,31,40,44,53],[10,19,23,32,39,45,52,54],[20,22,33,38,46,51,55,60],\n",
    "                   [21,34,37,47,50,56,59,61],[35,36,48,49,57,58,62,63]])\n",
    "zz_flat = zig_zag.flatten()\n",
    "def zig_zag_transform(a):\n",
    "    result = np.zeros(64)\n",
    "    for i in range(64):\n",
    "        result[zz_flat[i]] = a[i]\n",
    "    return result"
   ]
  },
  {
   "cell_type": "code",
   "execution_count": 12,
   "metadata": {},
   "outputs": [],
   "source": [
    "# 2D DCT function\n",
    "import scipy.fftpack\n",
    "def dct2d(a):\n",
    "    return scipy.fftpack.dct(scipy.fftpack.dct( a, axis=0, norm='ortho' ),axis=1,norm='ortho')"
   ]
  },
  {
   "cell_type": "code",
   "execution_count": 13,
   "metadata": {},
   "outputs": [
    {
     "name": "stdout",
     "output_type": "stream",
     "text": [
      "(255, 270)\n"
     ]
    }
   ],
   "source": [
    "im = cv2.imread('cheetah.bmp', cv2.IMREAD_GRAYSCALE)\n",
    "im_array = im\n",
    "print(im_array.shape)"
   ]
  },
  {
   "cell_type": "code",
   "execution_count": 14,
   "metadata": {},
   "outputs": [],
   "source": [
    "import cv2\n",
    "\n",
    "# store the test data as a numpy array\n",
    "im_test = cv2.imread('cheetah_mask.bmp', cv2.IMREAD_GRAYSCALE)\n",
    "im_test_array = np.array(im_test, dtype = float)\n",
    "# convert 255 to 1 for error calculation\n",
    "im_test_array = im_test_array / 255"
   ]
  },
  {
   "cell_type": "code",
   "execution_count": 15,
   "metadata": {},
   "outputs": [],
   "source": [
    "# BDR using Beysian Parameter Estimation using prior 1\n",
    "error_list_1,error_list_2=[],[]\n",
    "for t in range(len(FG)):\n",
    "    A_list = []\n",
    "    for k in range(cov1_pred_FG_1[t].shape[0]):\n",
    "        A = []\n",
    "        cov_pred_FG_inv = inv(cov1_pred_FG_1[t][k])\n",
    "        cov_pred_BG_inv = inv(cov1_pred_BG_1[t][k])\n",
    "        cov_pred_FG_det = det(cov1_pred_FG_1[t][k])\n",
    "        cov_pred_BG_det = det(cov1_pred_BG_1[t][k])\n",
    "        for i in range(0,len(im_array)-8):\n",
    "            for j in range(0,im_array.shape[1]-8):\n",
    "                FG_prob,BG_prob = 0,0\n",
    "                row_start,row_end = i,i+8\n",
    "                col_start,col_end = j,j+8\n",
    "                block = im_array[row_start:row_end,col_start:col_end]\n",
    "                block_dct = dct2d(block).flatten()\n",
    "                block_dct = zig_zag_transform(block_dct)\n",
    "                # foreground\n",
    "                temp1 = block_dct[:,np.newaxis] - mu1_pred_FG_1[t][k]\n",
    "                temp2 = (temp1.T.dot(cov_pred_FG_inv)).dot(temp1)\n",
    "                temp3 = np.log((2*np.pi)**64 * cov_pred_FG_det) - 2 * np.log(prior_cheetah[t])\n",
    "                FG_prob = temp2 + temp3\n",
    "                #background\n",
    "                temp1 = block_dct[:,np.newaxis] - mu1_pred_BG_1[t][k]\n",
    "                temp2 = (temp1.T.dot(cov_pred_BG_inv)).dot(temp1)\n",
    "                temp3 = np.log((2*np.pi)**64 * cov_pred_BG_det) - 2 * np.log(prior_grass[t])\n",
    "                BG_prob = temp2 + temp3\n",
    "                if FG_prob >= BG_prob:\n",
    "                    A.append(0)\n",
    "                else:\n",
    "                    A.append(1)\n",
    "        A_matrix = np.reshape(A,(247,262))\n",
    "        A_matrix_padding = np.lib.pad(A_matrix,(4,4),'constant',constant_values = 0)\n",
    "        A_list.append(A_matrix_padding.flatten())\n",
    "    A_list = np.array(A_list)\n",
    "    error_list_Bayesian = []\n",
    "    for i in range(A_list.shape[0]):\n",
    "        e = np.absolute(im_test_array.flatten() - A_list[i])\n",
    "        prob_error = np.sum(e) / (255*270)\n",
    "        error_list_Bayesian.append(prob_error)\n",
    "    error_list_Bayesian = np.array(error_list_Bayesian)\n",
    "    error_list_1.append(error_list_Bayesian)\n",
    "error_list_1 = np.array(error_list_1)"
   ]
  },
  {
   "cell_type": "code",
   "execution_count": 15,
   "metadata": {},
   "outputs": [],
   "source": [
    "# BDR using ML estimation\n",
    "error_list_ML = []\n",
    "for t in range(len(FG)):\n",
    "    A_ML = []\n",
    "    cov_FG_inv = inv(cov_FG[t])\n",
    "    cov_BG_inv = inv(cov_BG[t])\n",
    "    cov_FG_det = det(cov_FG[t])\n",
    "    cov_BG_det = det(cov_BG[t])\n",
    "    for i in range(0,len(im_array)-8):\n",
    "        for j in range(0,im_array.shape[1]-8):\n",
    "            FG_prob,BG_prob = 0,0\n",
    "            row_start,row_end = i,i+8\n",
    "            col_start,col_end = j,j+8\n",
    "            block = im_array[row_start:row_end,col_start:col_end]\n",
    "            block_dct = dct2d(block).flatten()\n",
    "            block_dct = zig_zag_transform(block_dct)\n",
    "            # foreground\n",
    "            temp1 = block_dct[:,np.newaxis] - mu_FG[t]\n",
    "            temp2 = (temp1.T.dot(cov_FG_inv)).dot(temp1)\n",
    "            temp3 = np.log((2*np.pi)**64 * cov_FG_det) - 2 * np.log(prior_cheetah[t])\n",
    "            FG_prob = temp2 + temp3\n",
    "            #background\n",
    "            temp1 = block_dct[:,np.newaxis] - mu_BG[t]\n",
    "            temp2 = (temp1.T.dot(cov_BG_inv)).dot(temp1)\n",
    "            temp3 = np.log((2*np.pi)**64 * cov_BG_det) - 2 * np.log(prior_grass[t])\n",
    "            BG_prob = temp2 + temp3\n",
    "            if FG_prob >= BG_prob:\n",
    "                A_ML.append(0)\n",
    "            else:\n",
    "                A_ML.append(1)\n",
    "    A_ML = np.array(A_ML)\n",
    "    A_ML_matrix = np.reshape(A_ML,(247,262))\n",
    "    A_ML_matrix_padding = np.lib.pad(A_ML_matrix,(4,4),'constant',constant_values = 0)\n",
    "    e = np.absolute(im_test_array.flatten() - A_ML_matrix_padding.flatten())\n",
    "    prob_error = np.sum(e) / (255 * 270)\n",
    "    error_list_ML.append(np.ones(9) * prob_error)\n",
    "error_list_ML = np.array(error_list_ML)"
   ]
  },
  {
   "cell_type": "code",
   "execution_count": 17,
   "metadata": {},
   "outputs": [
    {
     "data": {
      "text/plain": [
       "array([[ 1.67486766e-01,  2.16546074e-02, -2.72992180e-02, ...,\n",
       "         1.94585317e-05, -8.53191469e-05,  3.82396014e-05],\n",
       "       [ 2.16546074e-02,  4.50734306e-02, -1.03495028e-02, ...,\n",
       "         6.55926870e-05, -4.65167159e-06, -6.23828827e-05],\n",
       "       [-2.72992180e-02, -1.03495028e-02,  5.44252668e-02, ...,\n",
       "         3.06321249e-05, -3.04071226e-06, -6.44463310e-07],\n",
       "       ...,\n",
       "       [ 1.94585317e-05,  6.55926870e-05,  3.06321249e-05, ...,\n",
       "         1.68920436e-05, -9.33696273e-07, -1.84184123e-06],\n",
       "       [-8.53191469e-05, -4.65167159e-06, -3.04071226e-06, ...,\n",
       "        -9.33696273e-07,  1.09441728e-05, -1.40993233e-07],\n",
       "       [ 3.82396014e-05, -6.23828827e-05, -6.44463310e-07, ...,\n",
       "        -1.84184123e-06, -1.40993233e-07,  8.79755327e-06]])"
      ]
     },
     "execution_count": 17,
     "metadata": {},
     "output_type": "execute_result"
    }
   ],
   "source": [
    "cov_FG[3]"
   ]
  },
  {
   "cell_type": "code",
   "execution_count": 17,
   "metadata": {},
   "outputs": [],
   "source": [
    "error_list_M1,error_list_M2=[],[]\n",
    "\n",
    "# MAP Approximation with prior 1\n",
    "for t in range(len(FG)):\n",
    "    A_MAP = []\n",
    "    for k in range(mu1_pred_FG_1[t].shape[0]):\n",
    "        A = []\n",
    "        cov_pred_FG_inv = inv(cov_FG[t])\n",
    "        cov_pred_BG_inv = inv(cov_BG[t])\n",
    "        cov_pred_FG_det = det(cov_FG[t])\n",
    "        cov_pred_BG_det = det(cov_BG[t])\n",
    "        for i in range(0,len(im_array)-8):\n",
    "            for j in range(0,im_array.shape[1]-8):\n",
    "                FG_prob,BG_prob = 0,0\n",
    "                row_start,row_end = i,i+8\n",
    "                col_start,col_end = j,j+8\n",
    "                block = im_array[row_start:row_end,col_start:col_end]\n",
    "                block_dct = dct2d(block).flatten()\n",
    "                block_dct = zig_zag_transform(block_dct)\n",
    "                # foreground\n",
    "                temp1 = block_dct[:,np.newaxis] - mu1_pred_FG_1[t][k]\n",
    "                temp2 = (temp1.T.dot(cov_pred_FG_inv)).dot(temp1)\n",
    "                temp3 = np.log((2*np.pi)**64 * cov_pred_FG_det) - 2 * np.log(prior_cheetah[t])\n",
    "                FG_prob = temp2 + temp3\n",
    "                #background\n",
    "                temp1 = block_dct[:,np.newaxis] - mu1_pred_BG_1[t][k]\n",
    "                temp2 = (temp1.T.dot(cov_pred_BG_inv)).dot(temp1)\n",
    "                temp3 = np.log((2*np.pi)**64 * cov_pred_BG_det) - 2 * np.log(prior_grass[t])\n",
    "                BG_prob = temp2 + temp3\n",
    "                if FG_prob >= BG_prob:\n",
    "                    A.append(0)\n",
    "                else:\n",
    "                    A.append(1)\n",
    "        A_matrix = np.reshape(A,(247,262))\n",
    "        A_matrix_padding = np.lib.pad(A_matrix,(4,4),'constant',constant_values = 0)\n",
    "        A_MAP.append(A_matrix_padding.flatten())\n",
    "    A_MAP = np.array(A_MAP)\n",
    "    error_list_MAP = []\n",
    "    for i in range(A_MAP.shape[0]):\n",
    "        e = np.absolute(im_test_array.flatten() - A_MAP[i])\n",
    "        prob_error = np.sum(e) / (255*270)\n",
    "        error_list_MAP.append(prob_error)\n",
    "    error_list_MAP = np.array(error_list_MAP)\n",
    "    error_list_M1.append(error_list_MAP)\n",
    "error_list_M1 = np.array(error_list_M1)"
   ]
  },
  {
   "cell_type": "code",
   "execution_count": 18,
   "metadata": {},
   "outputs": [
    {
     "data": {
      "image/png": "[encoded data removed]",
      "text/plain": [
       "<Figure size 864x1728 with 4 Axes>"
      ]
     },
     "metadata": {
      "needs_background": "light"
     },
     "output_type": "display_data"
    }
   ],
   "source": [
    "import matplotlib.pyplot as plt\n",
    "fig=plt.figure(figsize=(12,24))\n",
    "title = ['strategy 1','strategy 2']\n",
    "for i in range(len(FG)):\n",
    "    for j in range(1):\n",
    "        fig.add_subplot(4,2,(2*i+j)+1)\n",
    "        x = np.log10(a.flatten())\n",
    "        if j == 0:\n",
    "            plt.plot(x,error_list_1[i],label = 'Bayesian',color='blue')\n",
    "            plt.plot(x,error_list_ML[i],label = 'ML',color = 'orange')\n",
    "            plt.plot(x,error_list_M1[i],label = 'MAP',color = 'green')\n",
    "            plt.title('dataset %d '%(i+1) + title[j])\n",
    "        #else:\n",
    "            #plt.plot(x,error_list_2[i],label = 'Bayesian',color='blue')\n",
    "            #plt.plot(x,error_list_ML[i],label = 'ML',color = 'orange')\n",
    "            #plt.plot(x,error_list_M2[i],label = 'MAP',color = 'green')\n",
    "            #plt.title('dataset %d '%(i+1) + title[j])\n",
    "        plt.legend(loc='upper right')\n",
    "        plt.xlabel('log_10(alpha)')\n",
    "        plt.ylabel('probability of error')\n",
    "plt.show()"
   ]
  }
 ],
 "metadata": {
  "interpreter": {
   "hash": "cfe5dda9b6afaed5614e16039d56331fd49eb2ec58b3d40c6c14d4edbbd61cd6"
  },
  "kernelspec": {
   "display_name": "Python 3.8.10 64-bit ('MLenv': virtualenv)",
   "language": "python",
   "name": "python3"
  },
  "language_info": {
   "codemirror_mode": {
    "name": "ipython",
    "version": 3
   },
   "file_extension": ".py",
   "mimetype": "text/x-python",
   "name": "python",
   "nbconvert_exporter": "python",
   "pygments_lexer": "ipython3",
   "version": "3.8.10"
  },
  "orig_nbformat": 4
 },
 "nbformat": 4,
 "nbformat_minor": 2
}
