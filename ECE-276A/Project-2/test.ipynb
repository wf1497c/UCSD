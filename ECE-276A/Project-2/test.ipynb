{
 "cells": [
  {
   "cell_type": "code",
   "execution_count": 1,
   "metadata": {},
   "outputs": [],
   "source": [
    "import numpy as np\n",
    "import os\n",
    "import csv\n",
    "import matplotlib.pyplot as plt\n",
    "import math"
   ]
  },
  {
   "cell_type": "code",
   "execution_count": 7,
   "metadata": {},
   "outputs": [
    {
     "data": {
      "text/plain": [
       "'1544582648735466220.png'"
      ]
     },
     "execution_count": 7,
     "metadata": {},
     "output_type": "execute_result"
    }
   ],
   "source": []
  },
  {
   "cell_type": "code",
   "execution_count": 6,
   "metadata": {},
   "outputs": [
    {
     "data": {
      "text/plain": [
       "(array([0, 0, 0, 1, 1, 1, 2, 2, 2]), array([0, 1, 2, 0, 1, 2, 0, 1, 2]))"
      ]
     },
     "execution_count": 6,
     "metadata": {},
     "output_type": "execute_result"
    }
   ],
   "source": [
    "a = np.array([[1,1,2],[1,2,3],[2,3,3]])\n",
    "np.where(a != 0)"
   ]
  },
  {
   "cell_type": "code",
   "execution_count": 96,
   "metadata": {},
   "outputs": [],
   "source": [
    "data_lidar_file = os.path.abspath(\"Lidar/lidar.csv\")\n",
    "with open(data_lidar_file) as f:\n",
    "    lidar_data = np.loadtxt(f, delimiter = ',')\n",
    "timestamp = lidar_data[:,0]\n",
    "lidar_data = lidar_data[:,1:]"
   ]
  },
  {
   "cell_type": "code",
   "execution_count": 95,
   "metadata": {},
   "outputs": [
    {
     "data": {
      "text/plain": [
       "11604.41478656"
      ]
     },
     "execution_count": 95,
     "metadata": {},
     "output_type": "execute_result"
    }
   ],
   "source": [
    "total_t = timestamp[len(timestamp)-1] - timestamp[0]\n",
    "total_t * pow(10,-8)"
   ]
  },
  {
   "cell_type": "code",
   "execution_count": 54,
   "metadata": {},
   "outputs": [],
   "source": [
    "# transform lidar points from lidar frame to world frame\n",
    "s_R_v = np.array([[0.00130201,0.796097,0.605167], [0.999999,-0.000419027,-0.00160026], [-0.00102038,0.605169,-0.796097]])\n",
    "s_p_v = np.array([0.8349,-0.0126869,1.76416])"
   ]
  },
  {
   "cell_type": "code",
   "execution_count": 6,
   "metadata": {},
   "outputs": [],
   "source": [
    "angles = np.linspace(-5, 185, 286) / 180 * np.pi\n",
    "ranges = lidar_data[0, :]"
   ]
  },
  {
   "cell_type": "code",
   "execution_count": 7,
   "metadata": {},
   "outputs": [
    {
     "data": {
      "image/png": "[encoded data removed]",
      "text/plain": [
       "<Figure size 432x288 with 1 Axes>"
      ]
     },
     "metadata": {
      "needs_background": "light"
     },
     "output_type": "display_data"
    }
   ],
   "source": [
    "plt.figure()\n",
    "ax = plt.subplot(111, projection='polar')\n",
    "ax.plot(angles, ranges)\n",
    "ax.set_rmax(80)\n",
    "ax.set_rticks([0.5, 1, 1.5, 2])  # fewer radial ticks\n",
    "ax.set_rlabel_position(-22.5)  # get radial labels away from plotted line"
   ]
  },
  {
   "cell_type": "code",
   "execution_count": 23,
   "metadata": {},
   "outputs": [],
   "source": [
    "x = np.array([ranges[i] * math.cos(angles[i]) for i in range(len(angles))])\n",
    "y = np.array([ranges[i] * math.sin(angles[i]) for i in range(len(angles))])\n",
    "z = np.zeros(len(x))\n",
    "\n",
    "lidar_end = np.array([x,y,z,np.ones(len(x))])"
   ]
  },
  {
   "cell_type": "code",
   "execution_count": 53,
   "metadata": {},
   "outputs": [],
   "source": [
    "b = 0.1\n",
    "\n",
    "\n",
    "def bodyToWorldTransform(x, y, yaw):\n",
    "    R = rot_z(yaw)\n",
    "\n",
    "    w_T_b = np.vstack((R, np.zeros((1,3))))\n",
    "    w_T_b = np.hstack((w_T_b, np.array(([x], [y], [b], [1]))))\n",
    "    return w_T_b\n",
    "\n",
    "def lidarToBodyTransform(psi, theta):\n",
    "    b_T_h = headToBodyTransform(psi, theta)\n",
    "    h_T_l = lidarToHeadTransform()\n",
    "\n",
    "    b_T_l = np.matmul(b_T_h, h_T_l)\n",
    "    return b_T_l\n",
    "\n",
    "def lidar2body(psi, theta, x_l, y_l):\n",
    "    coordinates_l = np.vstack((np.vstack((x_l, y_l)), np.zeros((1, x_l.shape[1])), np.ones((1, x_l.shape[1]))))\n",
    "\n",
    "    coordinates_b = np.matmul(lidarToBodyTransform(psi, theta), coordinates_l)\n",
    "    x_b = coordinates_b[0, :]\n",
    "    y_b = coordinates_b[1, :]\n",
    "    return (x_b, y_b)"
   ]
  },
  {
   "cell_type": "code",
   "execution_count": 42,
   "metadata": {},
   "outputs": [],
   "source": [
    "s_R_v = np.array([[0.00130201, 0.796097, 0.605167],\n",
    "                    [0.999999, -0.000419027, -0.00160026],\n",
    "                    [-0.00102038, 0.605169, -0.796097]\n",
    "                    ])\n",
    "s_p_v = np.array([0.8349, -0.0126869, 1.76416])\n",
    "\n",
    "v_T_s = np.vstack((s_R_v.T, np.zeros((1,3))))\n",
    "v_T_s = np.hstack((v_T_s, np.array([np.append(s_R_v.T.dot(s_p_v),1),]).T))"
   ]
  },
  {
   "cell_type": "code",
   "execution_count": 14,
   "metadata": {},
   "outputs": [],
   "source": [
    "l_R_v = np.array([[0.00130201, 0.796097, 0.605167],\n",
    "                    [0.999999, -0.000419027, -0.00160026],\n",
    "                    [-0.00102038, 0.605169, -0.796097]\n",
    "                    ])\n",
    "l_p_v = np.array([[0.8349, -0.0126869, 1.76416, 1]])\n",
    "\n",
    "v_T_l = np.vstack([l_R_v, np.zeros(3)])\n",
    "v_T_l = np.hstack([v_T_l, l_p_v.T])"
   ]
  },
  {
   "cell_type": "code",
   "execution_count": 57,
   "metadata": {},
   "outputs": [],
   "source": [
    "v_T_s = np.hstack([s_R_v.T,np.array([-s_R_v.T.dot(s_p_v),]).T])\n",
    "v_T_s = np.vstack([v_T_s, [0,0,0,1]])\n",
    "lidar_end_v = np.matmul(v_T_s, lidar_end)"
   ]
  },
  {
   "cell_type": "code",
   "execution_count": 3,
   "metadata": {},
   "outputs": [],
   "source": [
    "data_fog_file = os.path.abspath(\"FOG/fog.csv\")\n",
    "with open(data_fog_file) as f:\n",
    "    fog_data = np.loadtxt(f, delimiter = ',')\n",
    "fog_data = fog_data[:,1:]\n",
    "fog_timestamp = fog_data[:,0]"
   ]
  },
  {
   "cell_type": "code",
   "execution_count": 91,
   "metadata": {},
   "outputs": [
    {
     "data": {
      "text/plain": [
       "11604.762176"
      ]
     },
     "execution_count": 91,
     "metadata": {},
     "output_type": "execute_result"
    }
   ],
   "source": [
    "total_t = timestamp[len(timestamp)-1] - timestamp[0]\n",
    "total_t * pow(10,-8)"
   ]
  },
  {
   "cell_type": "code",
   "execution_count": 84,
   "metadata": {},
   "outputs": [],
   "source": [
    "# the change of orientation in fog frame is the same as in vehicle frame\n",
    "yaw_v = fog_data[:,2]"
   ]
  },
  {
   "cell_type": "code",
   "execution_count": 2,
   "metadata": {},
   "outputs": [],
   "source": [
    "# x, y of vehicle obtained from encoder\n",
    "data_encoder_file = os.path.abspath(\"Encoder/encoder.csv\")\n",
    "with open(data_encoder_file) as f:\n",
    "    encoder_data = np.loadtxt(f, delimiter = ',')\n",
    "encoder_timestamp = encoder_data[:,0]\n",
    "encoder_data = encoder_data[:,1:]"
   ]
  },
  {
   "cell_type": "code",
   "execution_count": 22,
   "metadata": {},
   "outputs": [
    {
     "data": {
      "text/plain": [
       "array([[-4.99999366],\n",
       "       [ 0.00796326],\n",
       "       [ 2.        ]])"
      ]
     },
     "execution_count": 22,
     "metadata": {},
     "output_type": "execute_result"
    }
   ],
   "source": [
    "u_t = 5\n",
    "x_t = np.array([0,0,3.14])\n",
    "w_t = 2\n",
    "np.vstack([np.array([[u_t * math.cos(x_t[2]),u_t * math.sin(x_t[2])],]).T, w_t])"
   ]
  },
  {
   "cell_type": "code",
   "execution_count": 20,
   "metadata": {},
   "outputs": [
    {
     "data": {
      "text/plain": [
       "(2, 1)"
      ]
     },
     "execution_count": 20,
     "metadata": {},
     "output_type": "execute_result"
    }
   ],
   "source": [
    "np.array([[u_t * math.cos(x_t[2]),u_t * math.sin(x_t[2])],]).T.shape"
   ]
  },
  {
   "cell_type": "code",
   "execution_count": 116,
   "metadata": {},
   "outputs": [
    {
     "data": {
      "text/plain": [
       "array([False, False, False, ..., False, False, False])"
      ]
     },
     "execution_count": 116,
     "metadata": {},
     "output_type": "execute_result"
    }
   ],
   "source": [
    "fog_timestamp[0] > encoder_timestamp"
   ]
  },
  {
   "cell_type": "code",
   "execution_count": 105,
   "metadata": {},
   "outputs": [
    {
     "data": {
      "text/plain": [
       "True"
      ]
     },
     "execution_count": 105,
     "metadata": {},
     "output_type": "execute_result"
    }
   ],
   "source": [
    "fog_timestamp[0] < encoder_timestamp[0]"
   ]
  },
  {
   "cell_type": "code",
   "execution_count": 93,
   "metadata": {},
   "outputs": [
    {
     "data": {
      "text/plain": [
       "11604.762176"
      ]
     },
     "execution_count": 93,
     "metadata": {},
     "output_type": "execute_result"
    }
   ],
   "source": [
    "total_t = timestamp[len(timestamp)-1] - timestamp[0]\n",
    "total_t * pow(10,-8)"
   ]
  },
  {
   "cell_type": "code",
   "execution_count": 83,
   "metadata": {},
   "outputs": [],
   "source": [
    "l_wheel_d = 0.623479\n",
    "traveled_dist = [math.pi * l_wheel_d / 360 * count for count in encoder_data[:,0]]\n"
   ]
  }
 ],
 "metadata": {
  "interpreter": {
   "hash": "cfe5dda9b6afaed5614e16039d56331fd49eb2ec58b3d40c6c14d4edbbd61cd6"
  },
  "kernelspec": {
   "display_name": "Python 3.8.10 ('MLenv')",
   "language": "python",
   "name": "python3"
  },
  "language_info": {
   "codemirror_mode": {
    "name": "ipython",
    "version": 3
   },
   "file_extension": ".py",
   "mimetype": "text/x-python",
   "name": "python",
   "nbconvert_exporter": "python",
   "pygments_lexer": "ipython3",
   "version": "3.8.10"
  },
  "orig_nbformat": 4
 },
 "nbformat": 4,
 "nbformat_minor": 2
}
